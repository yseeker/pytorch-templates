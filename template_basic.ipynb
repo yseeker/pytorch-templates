{
  "nbformat": 4,
  "nbformat_minor": 0,
  "metadata": {
    "accelerator": "GPU",
    "colab": {
      "name": "template_basic.ipynb",
      "provenance": [],
      "collapsed_sections": [],
      "machine_shape": "hm",
      "mount_file_id": "1Cf5tQ6GkPr2wDV2di2VHxndVUpSFwTP0",
      "authorship_tag": "ABX9TyOuxmDDVpX7GhROapx1toRK",
      "include_colab_link": true
    },
    "kernelspec": {
      "display_name": "Python 3",
      "name": "python3"
    },
    "language_info": {
      "name": "python"
    },
    "widgets": {
      "application/vnd.jupyter.widget-state+json": {
        "9a13f959cd3f443ba9eddedf3382dd6c": {
          "model_module": "@jupyter-widgets/controls",
          "model_name": "VBoxModel",
          "state": {
            "_view_name": "VBoxView",
            "_dom_classes": [],
            "_model_name": "VBoxModel",
            "_view_module": "@jupyter-widgets/controls",
            "_model_module_version": "1.5.0",
            "_view_count": null,
            "_view_module_version": "1.5.0",
            "box_style": "",
            "layout": "IPY_MODEL_07f41b9ba1be42c79b475f4720abf6c4",
            "_model_module": "@jupyter-widgets/controls",
            "children": [
              "IPY_MODEL_6bc4bc133fcc46a594bc961050faed2a",
              "IPY_MODEL_4296ebab224e4048a5376cc3f15ea342"
            ]
          }
        },
        "07f41b9ba1be42c79b475f4720abf6c4": {
          "model_module": "@jupyter-widgets/base",
          "model_name": "LayoutModel",
          "state": {
            "_view_name": "LayoutView",
            "grid_template_rows": null,
            "right": null,
            "justify_content": null,
            "_view_module": "@jupyter-widgets/base",
            "overflow": null,
            "_model_module_version": "1.2.0",
            "_view_count": null,
            "flex_flow": null,
            "width": null,
            "min_width": null,
            "border": null,
            "align_items": null,
            "bottom": null,
            "_model_module": "@jupyter-widgets/base",
            "top": null,
            "grid_column": null,
            "overflow_y": null,
            "overflow_x": null,
            "grid_auto_flow": null,
            "grid_area": null,
            "grid_template_columns": null,
            "flex": null,
            "_model_name": "LayoutModel",
            "justify_items": null,
            "grid_row": null,
            "max_height": null,
            "align_content": null,
            "visibility": null,
            "align_self": null,
            "height": null,
            "min_height": null,
            "padding": null,
            "grid_auto_rows": null,
            "grid_gap": null,
            "max_width": null,
            "order": null,
            "_view_module_version": "1.2.0",
            "grid_template_areas": null,
            "object_position": null,
            "object_fit": null,
            "grid_auto_columns": null,
            "margin": null,
            "display": null,
            "left": null
          }
        },
        "6bc4bc133fcc46a594bc961050faed2a": {
          "model_module": "@jupyter-widgets/controls",
          "model_name": "LabelModel",
          "state": {
            "_view_name": "LabelView",
            "style": "IPY_MODEL_8130819a455a4a64ac5454456df129f9",
            "_dom_classes": [],
            "description": "",
            "_model_name": "LabelModel",
            "placeholder": "​",
            "_view_module": "@jupyter-widgets/controls",
            "_model_module_version": "1.5.0",
            "value": " 0.77MB of 0.77MB uploaded (0.00MB deduped)\r",
            "_view_count": null,
            "_view_module_version": "1.5.0",
            "description_tooltip": null,
            "_model_module": "@jupyter-widgets/controls",
            "layout": "IPY_MODEL_c0cae8c8344a49ee8ad2549a3e1c24cb"
          }
        },
        "4296ebab224e4048a5376cc3f15ea342": {
          "model_module": "@jupyter-widgets/controls",
          "model_name": "FloatProgressModel",
          "state": {
            "_view_name": "ProgressView",
            "style": "IPY_MODEL_30dd65602d2343ab8638548c3b602fe3",
            "_dom_classes": [],
            "description": "",
            "_model_name": "FloatProgressModel",
            "bar_style": "",
            "max": 1,
            "_view_module": "@jupyter-widgets/controls",
            "_model_module_version": "1.5.0",
            "value": 1,
            "_view_count": null,
            "_view_module_version": "1.5.0",
            "orientation": "horizontal",
            "min": 0,
            "description_tooltip": null,
            "_model_module": "@jupyter-widgets/controls",
            "layout": "IPY_MODEL_6e5dd66279d84bf1953d21920025f1cc"
          }
        },
        "8130819a455a4a64ac5454456df129f9": {
          "model_module": "@jupyter-widgets/controls",
          "model_name": "DescriptionStyleModel",
          "state": {
            "_view_name": "StyleView",
            "_model_name": "DescriptionStyleModel",
            "description_width": "",
            "_view_module": "@jupyter-widgets/base",
            "_model_module_version": "1.5.0",
            "_view_count": null,
            "_view_module_version": "1.2.0",
            "_model_module": "@jupyter-widgets/controls"
          }
        },
        "c0cae8c8344a49ee8ad2549a3e1c24cb": {
          "model_module": "@jupyter-widgets/base",
          "model_name": "LayoutModel",
          "state": {
            "_view_name": "LayoutView",
            "grid_template_rows": null,
            "right": null,
            "justify_content": null,
            "_view_module": "@jupyter-widgets/base",
            "overflow": null,
            "_model_module_version": "1.2.0",
            "_view_count": null,
            "flex_flow": null,
            "width": null,
            "min_width": null,
            "border": null,
            "align_items": null,
            "bottom": null,
            "_model_module": "@jupyter-widgets/base",
            "top": null,
            "grid_column": null,
            "overflow_y": null,
            "overflow_x": null,
            "grid_auto_flow": null,
            "grid_area": null,
            "grid_template_columns": null,
            "flex": null,
            "_model_name": "LayoutModel",
            "justify_items": null,
            "grid_row": null,
            "max_height": null,
            "align_content": null,
            "visibility": null,
            "align_self": null,
            "height": null,
            "min_height": null,
            "padding": null,
            "grid_auto_rows": null,
            "grid_gap": null,
            "max_width": null,
            "order": null,
            "_view_module_version": "1.2.0",
            "grid_template_areas": null,
            "object_position": null,
            "object_fit": null,
            "grid_auto_columns": null,
            "margin": null,
            "display": null,
            "left": null
          }
        },
        "30dd65602d2343ab8638548c3b602fe3": {
          "model_module": "@jupyter-widgets/controls",
          "model_name": "ProgressStyleModel",
          "state": {
            "_view_name": "StyleView",
            "_model_name": "ProgressStyleModel",
            "description_width": "",
            "_view_module": "@jupyter-widgets/base",
            "_model_module_version": "1.5.0",
            "_view_count": null,
            "_view_module_version": "1.2.0",
            "bar_color": null,
            "_model_module": "@jupyter-widgets/controls"
          }
        },
        "6e5dd66279d84bf1953d21920025f1cc": {
          "model_module": "@jupyter-widgets/base",
          "model_name": "LayoutModel",
          "state": {
            "_view_name": "LayoutView",
            "grid_template_rows": null,
            "right": null,
            "justify_content": null,
            "_view_module": "@jupyter-widgets/base",
            "overflow": null,
            "_model_module_version": "1.2.0",
            "_view_count": null,
            "flex_flow": null,
            "width": null,
            "min_width": null,
            "border": null,
            "align_items": null,
            "bottom": null,
            "_model_module": "@jupyter-widgets/base",
            "top": null,
            "grid_column": null,
            "overflow_y": null,
            "overflow_x": null,
            "grid_auto_flow": null,
            "grid_area": null,
            "grid_template_columns": null,
            "flex": null,
            "_model_name": "LayoutModel",
            "justify_items": null,
            "grid_row": null,
            "max_height": null,
            "align_content": null,
            "visibility": null,
            "align_self": null,
            "height": null,
            "min_height": null,
            "padding": null,
            "grid_auto_rows": null,
            "grid_gap": null,
            "max_width": null,
            "order": null,
            "_view_module_version": "1.2.0",
            "grid_template_areas": null,
            "object_position": null,
            "object_fit": null,
            "grid_auto_columns": null,
            "margin": null,
            "display": null,
            "left": null
          }
        },
        "b1c50ea109d44a479dc4179340fa069e": {
          "model_module": "@jupyter-widgets/controls",
          "model_name": "HBoxModel",
          "state": {
            "_view_name": "HBoxView",
            "_dom_classes": [],
            "_model_name": "HBoxModel",
            "_view_module": "@jupyter-widgets/controls",
            "_model_module_version": "1.5.0",
            "_view_count": null,
            "_view_module_version": "1.5.0",
            "box_style": "",
            "layout": "IPY_MODEL_9f4ca4d0d3bd4db7a2e09df384f2ce7e",
            "_model_module": "@jupyter-widgets/controls",
            "children": [
              "IPY_MODEL_254bb96b16414ded98de8efe574b0e2d",
              "IPY_MODEL_e8da58e6bd5d449dbaec02cf4b24b0db"
            ]
          }
        },
        "9f4ca4d0d3bd4db7a2e09df384f2ce7e": {
          "model_module": "@jupyter-widgets/base",
          "model_name": "LayoutModel",
          "state": {
            "_view_name": "LayoutView",
            "grid_template_rows": null,
            "right": null,
            "justify_content": null,
            "_view_module": "@jupyter-widgets/base",
            "overflow": null,
            "_model_module_version": "1.2.0",
            "_view_count": null,
            "flex_flow": null,
            "width": null,
            "min_width": null,
            "border": null,
            "align_items": null,
            "bottom": null,
            "_model_module": "@jupyter-widgets/base",
            "top": null,
            "grid_column": null,
            "overflow_y": null,
            "overflow_x": null,
            "grid_auto_flow": null,
            "grid_area": null,
            "grid_template_columns": null,
            "flex": null,
            "_model_name": "LayoutModel",
            "justify_items": null,
            "grid_row": null,
            "max_height": null,
            "align_content": null,
            "visibility": null,
            "align_self": null,
            "height": null,
            "min_height": null,
            "padding": null,
            "grid_auto_rows": null,
            "grid_gap": null,
            "max_width": null,
            "order": null,
            "_view_module_version": "1.2.0",
            "grid_template_areas": null,
            "object_position": null,
            "object_fit": null,
            "grid_auto_columns": null,
            "margin": null,
            "display": null,
            "left": null
          }
        },
        "254bb96b16414ded98de8efe574b0e2d": {
          "model_module": "@jupyter-widgets/controls",
          "model_name": "FloatProgressModel",
          "state": {
            "_view_name": "ProgressView",
            "style": "IPY_MODEL_4df411e86bac409f9e68c387c34e6d68",
            "_dom_classes": [],
            "description": " 98%",
            "_model_name": "FloatProgressModel",
            "bar_style": "",
            "max": 3500,
            "_view_module": "@jupyter-widgets/controls",
            "_model_module_version": "1.5.0",
            "value": 3434,
            "_view_count": null,
            "_view_module_version": "1.5.0",
            "orientation": "horizontal",
            "min": 0,
            "description_tooltip": null,
            "_model_module": "@jupyter-widgets/controls",
            "layout": "IPY_MODEL_af3a00876e0b4b9882fc37d2167d13cd"
          }
        },
        "e8da58e6bd5d449dbaec02cf4b24b0db": {
          "model_module": "@jupyter-widgets/controls",
          "model_name": "HTMLModel",
          "state": {
            "_view_name": "HTMLView",
            "style": "IPY_MODEL_b4c1d751133c40cf83b8c8faca7fa763",
            "_dom_classes": [],
            "description": "",
            "_model_name": "HTMLModel",
            "placeholder": "​",
            "_view_module": "@jupyter-widgets/controls",
            "_model_module_version": "1.5.0",
            "value": " 3434/3500 [08:16&lt;00:09,  6.89it/s, lr=3.27e-5, stage=train, train_loss=0.694, train_step_metrics=0.511]",
            "_view_count": null,
            "_view_module_version": "1.5.0",
            "description_tooltip": null,
            "_model_module": "@jupyter-widgets/controls",
            "layout": "IPY_MODEL_263fd16e963348b4928b28c44af17e1f"
          }
        },
        "4df411e86bac409f9e68c387c34e6d68": {
          "model_module": "@jupyter-widgets/controls",
          "model_name": "ProgressStyleModel",
          "state": {
            "_view_name": "StyleView",
            "_model_name": "ProgressStyleModel",
            "description_width": "initial",
            "_view_module": "@jupyter-widgets/base",
            "_model_module_version": "1.5.0",
            "_view_count": null,
            "_view_module_version": "1.2.0",
            "bar_color": null,
            "_model_module": "@jupyter-widgets/controls"
          }
        },
        "af3a00876e0b4b9882fc37d2167d13cd": {
          "model_module": "@jupyter-widgets/base",
          "model_name": "LayoutModel",
          "state": {
            "_view_name": "LayoutView",
            "grid_template_rows": null,
            "right": null,
            "justify_content": null,
            "_view_module": "@jupyter-widgets/base",
            "overflow": null,
            "_model_module_version": "1.2.0",
            "_view_count": null,
            "flex_flow": null,
            "width": null,
            "min_width": null,
            "border": null,
            "align_items": null,
            "bottom": null,
            "_model_module": "@jupyter-widgets/base",
            "top": null,
            "grid_column": null,
            "overflow_y": null,
            "overflow_x": null,
            "grid_auto_flow": null,
            "grid_area": null,
            "grid_template_columns": null,
            "flex": null,
            "_model_name": "LayoutModel",
            "justify_items": null,
            "grid_row": null,
            "max_height": null,
            "align_content": null,
            "visibility": null,
            "align_self": null,
            "height": null,
            "min_height": null,
            "padding": null,
            "grid_auto_rows": null,
            "grid_gap": null,
            "max_width": null,
            "order": null,
            "_view_module_version": "1.2.0",
            "grid_template_areas": null,
            "object_position": null,
            "object_fit": null,
            "grid_auto_columns": null,
            "margin": null,
            "display": null,
            "left": null
          }
        },
        "b4c1d751133c40cf83b8c8faca7fa763": {
          "model_module": "@jupyter-widgets/controls",
          "model_name": "DescriptionStyleModel",
          "state": {
            "_view_name": "StyleView",
            "_model_name": "DescriptionStyleModel",
            "description_width": "",
            "_view_module": "@jupyter-widgets/base",
            "_model_module_version": "1.5.0",
            "_view_count": null,
            "_view_module_version": "1.2.0",
            "_model_module": "@jupyter-widgets/controls"
          }
        },
        "263fd16e963348b4928b28c44af17e1f": {
          "model_module": "@jupyter-widgets/base",
          "model_name": "LayoutModel",
          "state": {
            "_view_name": "LayoutView",
            "grid_template_rows": null,
            "right": null,
            "justify_content": null,
            "_view_module": "@jupyter-widgets/base",
            "overflow": null,
            "_model_module_version": "1.2.0",
            "_view_count": null,
            "flex_flow": null,
            "width": null,
            "min_width": null,
            "border": null,
            "align_items": null,
            "bottom": null,
            "_model_module": "@jupyter-widgets/base",
            "top": null,
            "grid_column": null,
            "overflow_y": null,
            "overflow_x": null,
            "grid_auto_flow": null,
            "grid_area": null,
            "grid_template_columns": null,
            "flex": null,
            "_model_name": "LayoutModel",
            "justify_items": null,
            "grid_row": null,
            "max_height": null,
            "align_content": null,
            "visibility": null,
            "align_self": null,
            "height": null,
            "min_height": null,
            "padding": null,
            "grid_auto_rows": null,
            "grid_gap": null,
            "max_width": null,
            "order": null,
            "_view_module_version": "1.2.0",
            "grid_template_areas": null,
            "object_position": null,
            "object_fit": null,
            "grid_auto_columns": null,
            "margin": null,
            "display": null,
            "left": null
          }
        }
      }
    }
  },
  "cells": [
    {
      "cell_type": "markdown",
      "metadata": {
        "id": "view-in-github",
        "colab_type": "text"
      },
      "source": [
        "<a href=\"https://colab.research.google.com/github/yseeker/pytorch-templates/blob/main/template_basic.ipynb\" target=\"_parent\"><img src=\"https://colab.research.google.com/assets/colab-badge.svg\" alt=\"Open In Colab\"/></a>"
      ]
    },
    {
      "cell_type": "code",
      "metadata": {
        "id": "1xDJzJCP7G-O",
        "colab": {
          "base_uri": "https://localhost:8080/"
        },
        "outputId": "cae51a1a-d286-4c24-da17-8fe832211e08"
      },
      "source": [
        "!nvidia-smi"
      ],
      "execution_count": null,
      "outputs": [
        {
          "output_type": "stream",
          "text": [
            "Fri Jul  2 21:19:42 2021       \n",
            "+-----------------------------------------------------------------------------+\n",
            "| NVIDIA-SMI 465.27       Driver Version: 460.32.03    CUDA Version: 11.2     |\n",
            "|-------------------------------+----------------------+----------------------+\n",
            "| GPU  Name        Persistence-M| Bus-Id        Disp.A | Volatile Uncorr. ECC |\n",
            "| Fan  Temp  Perf  Pwr:Usage/Cap|         Memory-Usage | GPU-Util  Compute M. |\n",
            "|                               |                      |               MIG M. |\n",
            "|===============================+======================+======================|\n",
            "|   0  Tesla V100-SXM2...  Off  | 00000000:00:04.0 Off |                    0 |\n",
            "| N/A   35C    P0    23W / 300W |      0MiB / 16160MiB |      0%      Default |\n",
            "|                               |                      |                  N/A |\n",
            "+-------------------------------+----------------------+----------------------+\n",
            "                                                                               \n",
            "+-----------------------------------------------------------------------------+\n",
            "| Processes:                                                                  |\n",
            "|  GPU   GI   CI        PID   Type   Process name                  GPU Memory |\n",
            "|        ID   ID                                                   Usage      |\n",
            "|=============================================================================|\n",
            "|  No running processes found                                                 |\n",
            "+-----------------------------------------------------------------------------+\n"
          ],
          "name": "stdout"
        }
      ]
    },
    {
      "cell_type": "code",
      "metadata": {
        "id": "4FgOZvp9Twko",
        "colab": {
          "base_uri": "https://localhost:8080/"
        },
        "outputId": "795c7b1b-a480-4514-aac5-b60d9ffe5d89"
      },
      "source": [
        "!pip install gwpy --quiet"
      ],
      "execution_count": null,
      "outputs": [
        {
          "output_type": "stream",
          "text": [
            "\u001b[K     |████████████████████████████████| 1.4MB 14.9MB/s \n",
            "\u001b[K     |████████████████████████████████| 10.3MB 47.7MB/s \n",
            "\u001b[K     |████████████████████████████████| 61kB 9.1MB/s \n",
            "\u001b[K     |████████████████████████████████| 61kB 8.8MB/s \n",
            "\u001b[K     |████████████████████████████████| 3.2MB 48.3MB/s \n",
            "\u001b[?25h  Building wheel for ligo-segments (setup.py) ... \u001b[?25l\u001b[?25hdone\n",
            "\u001b[31mERROR: albumentations 0.1.12 has requirement imgaug<0.2.7,>=0.2.5, but you'll have imgaug 0.2.9 which is incompatible.\u001b[0m\n"
          ],
          "name": "stdout"
        }
      ]
    },
    {
      "cell_type": "code",
      "metadata": {
        "id": "d2d2rLHjzhyI"
      },
      "source": [
        "# load data\n",
        "%%capture\n",
        "!cp \"/content/drive/MyDrive/kaggle/input/***/training_labels.csv\" \"/content\"\n",
        "!unzip \"/content/drive/MyDrive/kaggle/input/***/data.zip\" -d \"/content/train\""
      ],
      "execution_count": null,
      "outputs": []
    },
    {
      "cell_type": "code",
      "metadata": {
        "id": "ONHqlHq6TzWe"
      },
      "source": [
        "class CFG:\n",
        "    project_name = 'your project name'\n",
        "    pretrained_model_name = 'efficientnetv2_rw_s'\n",
        "    pretrained = True\n",
        "    prettained_path = '../input/timm_weight/efficientnet_b0_ra-3dd342df.pth'\n",
        "    mixup_alpha = 0.5\n",
        "    lr = 1.0e-6\n",
        "    batch_size= 128\n",
        "    wandb_note = f'tawara_bs{batch_size}_adamW_default_lr{lr}_alpha{mixup_alpha}'\n",
        "    input_channels = 1\n",
        "    out_dim = 1\n",
        "    colab_or_kaggle = 'colab'\n",
        "    wandb_exp_name = f'{pretrained_model_name}_{colab_or_kaggle}_{wandb_note}'\n",
        "    epochs = 60\n",
        "    num_of_fold = 5\n",
        "    seed = 42\n",
        "    patience = 3\n",
        "    delta = 0.002\n",
        "    num_workers = 8\n",
        "    fp16 = True\n",
        "    checkpoint_path = ''\n",
        "    patience_mode = 'max'\n",
        "    patience = 3\n",
        "    delta = 0.002"
      ],
      "execution_count": null,
      "outputs": []
    },
    {
      "cell_type": "code",
      "metadata": {
        "id": "JTPtXCdJE3wK"
      },
      "source": [
        "%%capture \n",
        "!pip install --upgrade albumentations\n",
        "!pip install --upgrade wandb\n",
        "!pip install --!pip install colabcode --upgrade\n",
        "# ColabCode()\n",
        "\n",
        "import os\n",
        "import sys\n",
        "import random\n",
        "from pathlib import Path\n",
        "#from tqdm import tqdm\n",
        "from tqdm.notebook import tqdm\n",
        "import datetime\n",
        "import psutil\n",
        "import gc\n",
        "import math\n",
        "\n",
        "import pandas as pd\n",
        "import numpy as np\n",
        "from sklearn import metrics\n",
        "from sklearn.model_selection import StratifiedKFold\n",
        "import torch\n",
        "import torch.nn as nn\n",
        "import torchvision\n",
        "from torchsummary import summary\n",
        "\n",
        "import cv2\n",
        "from PIL import Image\n",
        "import albumentations as A\n",
        "\n",
        "import wandb\n",
        "import warnings\n",
        "\n",
        "warnings.filterwarnings(\"ignore\")"
      ],
      "execution_count": null,
      "outputs": []
    },
    {
      "cell_type": "code",
      "metadata": {
        "colab": {
          "base_uri": "https://localhost:8080/",
          "height": 236
        },
        "id": "TnLcKek4QVBG",
        "outputId": "f5159c21-2831-4057-9132-41412cb2448e"
      },
      "source": [
        "#If internet is off\n",
        "os.chdir(\"/content/drive/My Drive/kaggle/working\")\n",
        "tez_path = '../input/tez-lib'\n",
        "efnet_path = '../input/efficientnet-pytorch/EfficientNet-PyTorch/EfficientNet-PyTorch-master'\n",
        "timm_path = '../input/pytorch-image-models-master'\n",
        "sys.path.append(tez_path)\n",
        "sys.path.append(efnet_path)\n",
        "sys.path.append(timm_path)\n",
        "import timm"
      ],
      "execution_count": null,
      "outputs": [
        {
          "output_type": "error",
          "ename": "NameError",
          "evalue": "ignored",
          "traceback": [
            "\u001b[0;31m---------------------------------------------------------------------------\u001b[0m",
            "\u001b[0;31mNameError\u001b[0m                                 Traceback (most recent call last)",
            "\u001b[0;32m<ipython-input-1-6a221dbfca16>\u001b[0m in \u001b[0;36m<module>\u001b[0;34m()\u001b[0m\n\u001b[1;32m      1\u001b[0m \u001b[0;31m#If internet is off\u001b[0m\u001b[0;34m\u001b[0m\u001b[0;34m\u001b[0m\u001b[0;34m\u001b[0m\u001b[0m\n\u001b[0;32m----> 2\u001b[0;31m \u001b[0mos\u001b[0m\u001b[0;34m.\u001b[0m\u001b[0mchdir\u001b[0m\u001b[0;34m(\u001b[0m\u001b[0;34m\"/content/drive/My Drive/kaggle/working\"\u001b[0m\u001b[0;34m)\u001b[0m\u001b[0;34m\u001b[0m\u001b[0;34m\u001b[0m\u001b[0m\n\u001b[0m\u001b[1;32m      3\u001b[0m \u001b[0mtez_path\u001b[0m \u001b[0;34m=\u001b[0m \u001b[0;34m'../input/tez-lib'\u001b[0m\u001b[0;34m\u001b[0m\u001b[0;34m\u001b[0m\u001b[0m\n\u001b[1;32m      4\u001b[0m \u001b[0mefnet_path\u001b[0m \u001b[0;34m=\u001b[0m \u001b[0;34m'../input/efficientnet-pytorch/EfficientNet-PyTorch/EfficientNet-PyTorch-master'\u001b[0m\u001b[0;34m\u001b[0m\u001b[0;34m\u001b[0m\u001b[0m\n\u001b[1;32m      5\u001b[0m \u001b[0mtimm_path\u001b[0m \u001b[0;34m=\u001b[0m \u001b[0;34m'../input/pytorch-image-models-master'\u001b[0m\u001b[0;34m\u001b[0m\u001b[0;34m\u001b[0m\u001b[0m\n",
            "\u001b[0;31mNameError\u001b[0m: name 'os' is not defined"
          ]
        }
      ]
    },
    {
      "cell_type": "code",
      "metadata": {
        "id": "v6ULGIlopdyk"
      },
      "source": [
        "# Utils\n",
        "def sigmoid(gamma):\n",
        "    if gamma < 0:\n",
        "        return 1 - 1 / (1 + math.exp(gamma))\n",
        "    return 1 / (1 + math.exp(-gamma))\n",
        "\n",
        "# define vectorized sigmoid\n",
        "sigmoid_v = np.vectorize(sigmoid)\n",
        "\n",
        "def set_seed(seed = 0):\n",
        "    np.random.seed(seed)\n",
        "    random_state = np.random.RandomState(seed)\n",
        "    random.seed(seed)\n",
        "    torch.manual_seed(seed)\n",
        "    torch.cuda.manual_seed(seed)\n",
        "    os.environ['PYTHONHASHSEED'] = str(seed)\n",
        "    return random_state\n",
        "\n",
        "def mixup_data(inputs, targets, alpha=1.0):\n",
        "    if alpha > 0:\n",
        "        lam = np.random.beta(alpha, alpha)\n",
        "    else:\n",
        "        lam = 1\n",
        "    batch_size = inputs.size()[0]\n",
        "    index = torch.randperm(batch_size)\n",
        "    mixed_inputs = lam * inputs + (1 - lam) * inputs[index, :]\n",
        "    targets_a, targets_b = targets, targets[index]\n",
        "    \n",
        "    return mixed_inputs, targets_a, targets_b, lam\n",
        "\n",
        "def mixup_criterion(criterion, outputs, targets_a, targets_b, lam):\n",
        "    return lam * criterion(outputs, targets_a) + (1 - lam) * criterion(outputs, targets_b)"
      ],
      "execution_count": null,
      "outputs": []
    },
    {
      "cell_type": "code",
      "metadata": {
        "id": "i88MLFLA0gvh"
      },
      "source": [
        "class AverageMeter:\n",
        "    def __init__(self):\n",
        "        self.val = 0\n",
        "        self.avg = 0\n",
        "        self.sum = 0\n",
        "        self.count = 0\n",
        "\n",
        "    def reset(self):\n",
        "        self.val = 0\n",
        "        self.avg = 0\n",
        "        self.sum = 0\n",
        "        self.count = 0\n",
        "\n",
        "    def update(self, val, n=1):\n",
        "        self.val = val\n",
        "        self.sum += val * n\n",
        "        self.count += n\n",
        "        self.avg = self.sum / self.count"
      ],
      "execution_count": null,
      "outputs": []
    },
    {
      "cell_type": "code",
      "metadata": {
        "id": "bIgBPBdWGYLR"
      },
      "source": [
        "train_aug = A.Compose(\n",
        "    [\n",
        "        A.Resize(p = 1.0, height = 512, width = 512),\n",
        "        A.HorizontalFlip(p=0.5),\n",
        "        A.VerticalFlip(p=0.5),\n",
        "        A.ShiftScaleRotate(p=0.5,\n",
        "                           shift_limit = 0.2, \n",
        "                           scale_limit=0.2,\n",
        "                           rotate_limit=30, \n",
        "                           border_mode = cv2.BORDER_REPLICATE),\n",
        "        A.RandomResizedCrop(\n",
        "            p = 1.0,\n",
        "            height = 320,\n",
        "            width = 320,\n",
        "            scale = [0.9, 1.0]\n",
        "        ),\n",
        "        A.OneOf([\n",
        "            A.MedianBlur(p=0.3),\n",
        "            A.MotionBlur(p=0.3)\n",
        "        ]\n",
        "        )\n",
        "    ]\n",
        ")\n",
        "df = pd.read_csv('/content/training_labels.csv')\n",
        "df['img_path'] = df['id'].apply(\n",
        "    lambda x: f\"/content/train/{x}.npy\"\n",
        ")\n",
        "\n",
        "X = df.img_path.values\n",
        "Y = df.target.values\n",
        "skf = StratifiedKFold(n_splits = CFG.num_of_fold)\n",
        "\n",
        "class ClassificationDataset():\n",
        "    def __init__(self, image_paths, targets, transform = None): \n",
        "        self.image_paths = image_paths\n",
        "        self.targets = targets\n",
        "        self.transform = None\n",
        "\n",
        "    def __len__(self):\n",
        "        return len(self.image_paths)\n",
        "    \n",
        "    def __getitem__(self, item): \n",
        "        targets = self.targets[item]\n",
        "        image = np.load(self.image_paths[item])\n",
        "        image = image[np.newaxis, ]\n",
        "\n",
        "        return torch.tensor(image, dtype=torch.float), torch.tensor(targets, dtype=torch.float)"
      ],
      "execution_count": null,
      "outputs": []
    },
    {
      "cell_type": "code",
      "metadata": {
        "id": "3DYCYENwjwvj"
      },
      "source": [
        "class BasicNN(nn.Module):\n",
        "    def __init__(self):\n",
        "        super().__init__()\n",
        "        self.model = timm.create_model(CFG.pretrained_model_name, \n",
        "                                       pretrained = CFG.pretrained, \n",
        "                                       in_chans = CFG.input_channels)\n",
        "        if not CFG.pretrained: self.model.load_state_dict(torch.load(CFG.pretrained_path))\n",
        "        self.model.classifier = nn.Linear(self.model.classifier.in_features, CFG.out_dim)\n",
        "        \n",
        "    def forward(self, inputs):\n",
        "        outputs = self.model(inputs)\n",
        "        return outputs\n",
        "\n",
        "class Trainer():\n",
        "    def __init__(\n",
        "        self,\n",
        "        model,\n",
        "        train_dataset,\n",
        "        valid_dataset = None,\n",
        "        train_batchsize = 16,\n",
        "        valid_batchsize = 16,\n",
        "        valid_targets = None,\n",
        "        num_workers = 4,\n",
        "        fp16 = True,\n",
        "        multiple_GPU = False,\n",
        "        determinstic = True,\n",
        "        benchmark = False\n",
        "    ):\n",
        "        self.device = torch.device(\"cuda:0\" if torch.cuda.is_available() else \"cpu\")\n",
        "        \n",
        "        self.model = model\n",
        "        self.model.to(self.device)\n",
        "        self.valid_targets = valid_targets\n",
        "\n",
        "        self.criterion = nn.BCEWithLogitsLoss()\n",
        "        self.optimizer = self.configure_optimizer()\n",
        "        self.scheduler_after_step = self.configure_scheduler_after_step()\n",
        "        self.scheduler_after_epoch = self.configure_scheduler_after_epoch()\n",
        "\n",
        "        torch.backends.cudnn.deterministic = determinstic\n",
        "        torch.backends.cudnn.benchmark = benchmark\n",
        "        self.fp16 = fp16\n",
        "        self.scaler = torch.cuda.amp.GradScaler() \n",
        "        \n",
        "        if num_workers == -1: num_workers = psutil.cpu_count()\n",
        "        self.multiple_GPU = multiple_GPU\n",
        "        if multiple_GPU and torch.cuda.device_count() > 1:\n",
        "            print(\"Let's use\", torch.cuda.device_count(), \"GPUs!\")\n",
        "            self = nn.DataParallel(self)\n",
        "        \n",
        "        self.train_loader = torch.utils.data.DataLoader(\n",
        "            dataset = train_dataset, \n",
        "            batch_size = train_batchsize,\n",
        "            shuffle=True, \n",
        "            num_workers= num_workers,\n",
        "            drop_last = True,\n",
        "            pin_memory = True\n",
        "        )\n",
        "        self.valid_loader = torch.utils.data.DataLoader(\n",
        "            dataset = valid_dataset, \n",
        "            batch_size=valid_batchsize,\n",
        "            shuffle=False, \n",
        "            num_workers = num_workers,\n",
        "            drop_last = False,\n",
        "            pin_memory = True\n",
        "        )\n",
        "\n",
        "    def _init_wandb(self, cfg):\n",
        "        hyperparams = {\n",
        "            'batch_size' : cfg.batch_size,\n",
        "            'epochs' : cfg.epochs\n",
        "        }\n",
        "        wandb.init(\n",
        "            config = hyperparams,\n",
        "            project= cfg.project_name,\n",
        "            name=cfg.wandb_exp_name,\n",
        "        )\n",
        "        wandb.watch(self.model)\n",
        "\n",
        "    def configure_optimizer(self):\n",
        "        opt = torch.optim.Adam(self.model.parameters(), lr=CFG.lr)\n",
        "        return opt\n",
        "    \n",
        "    def configure_scheduler_after_step(self):\n",
        "        sch = torch.optim.lr_scheduler.OneCycleLR(\n",
        "            optimizer = self.optimizer,\n",
        "            epochs = CFG.epochs,\n",
        "            steps_per_epoch = 3500,\n",
        "            max_lr = 5.0e-4,\n",
        "            pct_start = 0.1,\n",
        "            anneal_strategy = 'cos',\n",
        "            div_factor = 1.0e+3,\n",
        "            final_div_factor = 1.0e+3\n",
        "        )\n",
        "        return sch\n",
        "\n",
        "    def configure_scheduler_after_epoch(self):\n",
        "        return None\n",
        "\n",
        "    def epoch_metrics(self, outputs, targets):\n",
        "        outputs = sigmoid_v(outputs)\n",
        "        return metrics.roc_auc_score(targets, outputs)\n",
        "\n",
        "    def monitor_metrics(self, outputs, targets):\n",
        "        outputs = outputs.sigmoid().cpu().detach().numpy()\n",
        "        targets = targets.cpu().detach().numpy()\n",
        "        if len(np.unique(targets)) > 1: \n",
        "            roc_auc = metrics.roc_auc_score(targets, outputs)\n",
        "        else: roc_auc = 0.5\n",
        "        return roc_auc\n",
        "\n",
        "    def train_one_step(self, inputs, targets):\n",
        "        inputs = inputs.to(self.device, non_blocking=True)\n",
        "        targets = targets.to(self.device, non_blocking=True)\n",
        "        inputs, targets_a, targets_b, lam = mixup_data(inputs, \n",
        "                                                      targets,\n",
        "                                                      alpha= CFG.mixup_alpha)\n",
        "        self.optimizer.zero_grad()\n",
        "        with torch.set_grad_enabled(True):\n",
        "            if self.fp16:\n",
        "                with torch.cuda.amp.autocast(self.fp16):\n",
        "                    outputs = self.model(inputs)\n",
        "                    #loss = self.criterion(outputs, targets.view(-1, 1))\n",
        "                    loss = mixup_criterion(self.criterion,\n",
        "                                                outputs, \n",
        "                                                targets_a.view(-1, 1),\n",
        "                                                targets_b.view(-1, 1), \n",
        "                                                lam)\n",
        "                    metrics = self.monitor_metrics(outputs, targets)\n",
        "                self.scaler.scale(loss).backward()\n",
        "                self.scaler.step(self.optimizer)\n",
        "                self.scaler.update()\n",
        "            else:\n",
        "                outputs = self(inputs)\n",
        "                metrics = self.monitor_metrics(outputs, targets)\n",
        "                loss = self.criterion(outputs, targets.view(-1, 1))\n",
        "                loss.backward()\n",
        "                self.optimizer.step()\n",
        "            if self.scheduler_after_step:\n",
        "                self.scheduler_after_step.step()\n",
        "        return outputs, loss, metrics\n",
        "\n",
        "    def validate_one_step(self, inputs, targets = None):\n",
        "        inputs = inputs.to(self.device, non_blocking=True)\n",
        "        if targets is not None:\n",
        "            targets = targets.to(self.device, non_blocking=True)\n",
        "            with torch.no_grad():\n",
        "                outputs = self.model(inputs)\n",
        "                loss = self.criterion(outputs, targets.view(-1, 1))\n",
        "                metrics = self.monitor_metrics(outputs, targets)\n",
        "            return outputs, loss, metrics\n",
        "        else:\n",
        "            outputs = self(inputs)\n",
        "            return outputs, None, None\n",
        "\n",
        "    def predict_one_step(self, inputs):\n",
        "        outputs, _, _ = self.validate_one_step(inputs)\n",
        "        return outputs\n",
        "        \n",
        "    def train_one_epoch(self, data_loader):\n",
        "        self.model.train()\n",
        "        running_loss, running_metrics = AverageMeter(), AverageMeter()\n",
        "        tk0 = tqdm(data_loader, total=len(data_loader), position = 0, leave = True)\n",
        "        for b_idx, (inputs, targets) in enumerate(tk0):\n",
        "            preds_one_batch, loss, metrics = self.train_one_step(inputs, targets)\n",
        "            running_loss.update(loss.item(), data_loader.batch_size)\n",
        "            running_metrics.update(metrics, data_loader.batch_size)\n",
        "            current_lr = self.optimizer.param_groups[0]['lr'] \n",
        "            wandb.log({\n",
        "                \"train/step\" : b_idx,\n",
        "                \"train/loss_step\": running_loss.avg,\n",
        "                \"lr\": current_lr \n",
        "                })\n",
        "            tk0.set_postfix(train_loss=running_loss.avg, train_step_metrics = running_metrics.avg, stage=\"train\", lr = current_lr)\n",
        "        if self.scheduler_after_epoch:\n",
        "            self.scheduler_after_epoch.step()\n",
        "        tk0.close()\n",
        "        return running_loss.avg\n",
        "\n",
        "    def validate_one_epoch(self, data_loader):\n",
        "        self.model.eval()\n",
        "        running_loss, running_metrics = AverageMeter(), AverageMeter()\n",
        "        preds_list = []\n",
        "        tk0 = tqdm(data_loader, total=len(data_loader), position = 0, leave = True)\n",
        "        for b_idx, (inputs, targets) in enumerate(tk0):\n",
        "            preds_one_batch, loss, metrics = self.validate_one_step(inputs, targets)\n",
        "            preds_list.append(preds_one_batch.cpu().detach().numpy())\n",
        "            running_loss.update(loss.item(), data_loader.batch_size)\n",
        "            running_metrics.update(metrics, data_loader.batch_size)\n",
        "            tk0.set_postfix(valid_loss = running_loss.avg, validate_step_metrics = running_metrics.avg, stage=\"validation\")\n",
        "            wandb.log({\n",
        "                \"valid/step\" : b_idx,\n",
        "                \"valid/metric_step\" : running_metrics.avg,\n",
        "                \"valid/loss\": running_loss.avg, \n",
        "                })\n",
        "        preds_arr = np.concatenate(preds_list)\n",
        "        valid_metric_val = self.epoch_metrics(preds_arr, self.valid_targets)\n",
        "        tk0.close()\n",
        "        return valid_metric_val, running_loss.avg\n",
        "\n",
        "    def predict(\n",
        "        self,\n",
        "        dataset,\n",
        "        batch_size = 16,\n",
        "        num_workers = 8,\n",
        "    ):\n",
        "        self.model.eval()\n",
        "        self.test_loader =  torch.utils.data.DataLoader(\n",
        "            dataset = test_dataset, \n",
        "            batch_size = batch_size,\n",
        "            shuffle = False, \n",
        "            num_workers= num_workers,\n",
        "            drop_last = False,\n",
        "            pin_memory = True\n",
        "        )\n",
        "        preds_list = []\n",
        "        tk0 = tqdm(data_loader, total=len(self.test_loader), position = 0, leave = True)\n",
        "        for b_idx, (inputs, targets) in enumerate(tk0):\n",
        "            preds_one_batch = self.predict_one_step(inputs, targets)\n",
        "            preds_list.append(preds_one_batch.cpu().detach().numpy())\n",
        "            tk0.set_postfix(stage=\"inference\")\n",
        "        tk0.close()\n",
        "        preds_arr = np.concatenate(preds_list)\n",
        "        return preds_arr\n",
        "\n",
        "    def save(self, model_path):\n",
        "        model_state_dict = self.model.state_dict()\n",
        "        if self.optimizer is not None:\n",
        "            opt_state_dict = self.optimizer.state_dict()\n",
        "        else:\n",
        "            opt_state_dict = None\n",
        "        if self.scheduler_after_step is not None:\n",
        "            sch_state_dict_after_step = self.scheduler_after_step.state_dict()\n",
        "        else:\n",
        "            sch_state_dict_after_step = None\n",
        "        if self.scheduler_after_epoch is not None:\n",
        "            sch_state_dict_after_epoch = self.scheduler_after_epoch.state_dict()\n",
        "        else:\n",
        "            sch_state_dict_after_epoch = None\n",
        "        model_dict = {}\n",
        "        model_dict[\"state_dict\"] = model_state_dict\n",
        "        model_dict[\"optimizer\"] = opt_state_dict\n",
        "        model_dict[\"scheduler_after_step\"] = sch_state_dict_after_step\n",
        "        model_dict[\"scheduler_after_epoch\"] = sch_state_dict_after_epoch\n",
        "        model_dict[\"epoch\"] = self.current_epoch\n",
        "        model_dict[\"fp16\"] = self.fp16\n",
        "        model_dict[\"multiple_GPU\"] = self.multiple_GPU\n",
        "        torch.save(model_dict, model_path)\n",
        "\n",
        "    def load(self, model_path):\n",
        "        self.device = torch.device(\"cuda:0\" if torch.cuda.is_available() else \"cpu\")\n",
        "        if next(self.model.parameters()).device != self.device:\n",
        "            self.to(self.device)\n",
        "        model_dict = torch.load(model_path, map_location=torch.device(device))\n",
        "        self.model.load_state_dict(model_dict[\"state_dict\"])\n",
        "\n",
        "    def fit(\n",
        "        self,\n",
        "        cfg,\n",
        "        epochs = 5,\n",
        "        checkpoint_save_path = '',\n",
        "        mode = 'max',\n",
        "        patience = 10,\n",
        "        delta = 0.001,\n",
        "    ):\n",
        "        set_seed(CFG.seed)\n",
        "        self._init_wandb(cfg)\n",
        "        path_directory = Path(checkpoint_save_path)\n",
        "        if mode == 'max':\n",
        "            current_best_valid_metrics = -float('inf')\n",
        "        else:\n",
        "            current_best_valid_metrics= float('inf')\n",
        "        early_stopping_counter = 0\n",
        "\n",
        "        for epoch in range(epochs):\n",
        "            train_loss = self.train_one_epoch(self.train_loader)\n",
        "            if valid_dataset:\n",
        "                valid_metrics, valid_loss = self.validate_one_epoch(self.valid_loader)\n",
        "                # Early Stopping and save at the check points.\n",
        "                if mode == 'max':\n",
        "                    if valid_metrics < current_best_valid_metrics + delta:\n",
        "                        early_stopping_counter += 1\n",
        "                        print(f'EarlyStopping counter: {early_stopping_counter} out of {patience}')\n",
        "                        if early_stopping_counter >= patience: break\n",
        "                    else:\n",
        "                        print(f\"Validation score improved ({current_best_valid_metrics} --> {valid_metrics}). Saving the check point!\")\n",
        "                        current_best_validmetrics= valid_metrics\n",
        "                        self.save(checkpoint_save_path / f\"{cfg.pretrained_model_name}_epoch{epoch}.cpt\" )\n",
        "                else:\n",
        "                    if valid_metrics > current_best_valid_metrics - delta:\n",
        "                        early_stopping_counter += 1\n",
        "                        print(f'EarlyStopping counter: {early_stopping_counter} out of {patience}')\n",
        "                        if early_stopping_counter >= patience: break\n",
        "                    else:\n",
        "                        print(f\"Validation score improved ({current_best_valid_metrics} --> {valid_metrics}). Saving the check point!\")\n",
        "                        current_best_valid_metrics = valid_metrics\n",
        "                        self.save(checkpoint_save_path / f\"{cfg.pretrained_model_name}_epoch{epoch}.cpt\" )\n",
        "                        \n",
        "            #writer.add_scalar(\"Loss/train\", 1.0, epoch)\n",
        "            print(f'epoch: {epoch}, validate_epoch_metrics : {valid_metrics}')\n",
        "            wandb.log({\n",
        "                \"epoch\" : epoch,\n",
        "                \"train/loss\" : train_loss,\n",
        "                \"valid/loss\" : valid_loss,\n",
        "                \"valid/metric\" : valid_metrics,\n",
        "                })\n",
        "        wandb.finish()\n",
        "        torch.cuda.empty_cache()\n",
        "        gc.collect()"
      ],
      "execution_count": null,
      "outputs": []
    },
    {
      "cell_type": "code",
      "metadata": {
        "id": "ALlSrf3BzGB9",
        "colab": {
          "base_uri": "https://localhost:8080/",
          "height": 852,
          "referenced_widgets": [
            "9a13f959cd3f443ba9eddedf3382dd6c",
            "07f41b9ba1be42c79b475f4720abf6c4",
            "6bc4bc133fcc46a594bc961050faed2a",
            "4296ebab224e4048a5376cc3f15ea342",
            "8130819a455a4a64ac5454456df129f9",
            "c0cae8c8344a49ee8ad2549a3e1c24cb",
            "30dd65602d2343ab8638548c3b602fe3",
            "6e5dd66279d84bf1953d21920025f1cc",
            "b1c50ea109d44a479dc4179340fa069e",
            "9f4ca4d0d3bd4db7a2e09df384f2ce7e",
            "254bb96b16414ded98de8efe574b0e2d",
            "e8da58e6bd5d449dbaec02cf4b24b0db",
            "4df411e86bac409f9e68c387c34e6d68",
            "af3a00876e0b4b9882fc37d2167d13cd",
            "b4c1d751133c40cf83b8c8faca7fa763",
            "263fd16e963348b4928b28c44af17e1f"
          ]
        },
        "outputId": "4b53ea8b-7f61-4cc8-b1d3-0ae98e1bd8f5"
      },
      "source": [
        "models = []\n",
        "\n",
        "for fold_cnt, (train_index, test_index) in enumerate(skf.split(X, Y), 1):\n",
        "    train_images, valid_images = X[train_index], X[test_index]\n",
        "    train_targets, valid_targets = Y[train_index], Y[test_index]\n",
        "\n",
        "    train_dataset = ClassificationDataset(\n",
        "        image_paths=train_images, \n",
        "        targets=train_targets, \n",
        "        transform = train_aug\n",
        "    )\n",
        "    valid_dataset = ClassificationDataset(\n",
        "        image_paths=valid_images, \n",
        "        targets=valid_targets, \n",
        "        transform = None\n",
        "    )\n",
        "    model = BasicNN()\n",
        "\n",
        "    trainer = Trainer(\n",
        "        model = model,\n",
        "        train_dataset = train_dataset,\n",
        "        valid_dataset = valid_dataset,\n",
        "        valid_targets = valid_targets,\n",
        "        train_batchsize = CFG.batch_size,\n",
        "        valid_batchsize = CFG.batch_size,\n",
        "        num_workers = CFG.num_workers,\n",
        "        fp16 = CFG.fp16,\n",
        "    )\n",
        "\n",
        "    trainer.fit(\n",
        "        cfg = CFG,\n",
        "        epochs = CFG.epochs,\n",
        "        checkpoint_save_path = CFG.checkpoint_path,\n",
        "        mode = CFG.patience_mode,\n",
        "        patience = CFG.patience,\n",
        "        delta = CFG.delta\n",
        "    )\n",
        "\n",
        "    models.append(model)"
      ],
      "execution_count": null,
      "outputs": [
        {
          "output_type": "display_data",
          "data": {
            "text/html": [
              "Finishing last run (ID:3ehqtqu6) before initializing another..."
            ],
            "text/plain": [
              "<IPython.core.display.HTML object>"
            ]
          },
          "metadata": {
            "tags": []
          }
        },
        {
          "output_type": "display_data",
          "data": {
            "text/html": [
              "<br/>Waiting for W&B process to finish, PID 385<br/>Program ended successfully."
            ],
            "text/plain": [
              "<IPython.core.display.HTML object>"
            ]
          },
          "metadata": {
            "tags": []
          }
        },
        {
          "output_type": "display_data",
          "data": {
            "application/vnd.jupyter.widget-view+json": {
              "model_id": "9a13f959cd3f443ba9eddedf3382dd6c",
              "version_minor": 0,
              "version_major": 2
            },
            "text/plain": [
              "VBox(children=(Label(value=' 0.05MB of 0.05MB uploaded (0.00MB deduped)\\r'), FloatProgress(value=1.0, max=1.0)…"
            ]
          },
          "metadata": {
            "tags": []
          }
        },
        {
          "output_type": "display_data",
          "data": {
            "text/html": [
              "Find user logs for this run at: <code>/content/drive/My Drive/kaggle/working/wandb/run-20210702_212505-3ehqtqu6/logs/debug.log</code>"
            ],
            "text/plain": [
              "<IPython.core.display.HTML object>"
            ]
          },
          "metadata": {
            "tags": []
          }
        },
        {
          "output_type": "display_data",
          "data": {
            "text/html": [
              "Find internal logs for this run at: <code>/content/drive/My Drive/kaggle/working/wandb/run-20210702_212505-3ehqtqu6/logs/debug-internal.log</code>"
            ],
            "text/plain": [
              "<IPython.core.display.HTML object>"
            ]
          },
          "metadata": {
            "tags": []
          }
        },
        {
          "output_type": "display_data",
          "data": {
            "text/html": [
              "<h3>Run summary:</h3><br/><style>\n",
              "    table.wandb td:nth-child(1) { padding: 0 10px; text-align: right }\n",
              "    </style><table class=\"wandb\">\n",
              "<tr><td>train/step</td><td>3499</td></tr><tr><td>train/loss_step</td><td>0.69286</td></tr><tr><td>lr</td><td>3e-05</td></tr><tr><td>_runtime</td><td>573</td></tr><tr><td>_timestamp</td><td>1625261678</td></tr><tr><td>_step</td><td>4374</td></tr><tr><td>valid/step</td><td>874</td></tr><tr><td>valid/metric_step</td><td>0.61864</td></tr><tr><td>valid/loss</td><td>1.57751</td></tr></table>"
            ],
            "text/plain": [
              "<IPython.core.display.HTML object>"
            ]
          },
          "metadata": {
            "tags": []
          }
        },
        {
          "output_type": "display_data",
          "data": {
            "text/html": [
              "<h3>Run history:</h3><br/><style>\n",
              "    table.wandb td:nth-child(1) { padding: 0 10px; text-align: right }\n",
              "    </style><table class=\"wandb\">\n",
              "<tr><td>train/step</td><td>▁▁▁▂▂▂▂▂▂▃▃▃▃▃▃▄▄▄▄▄▅▅▅▅▅▅▆▆▆▆▆▇▇▇▇▇▇███</td></tr><tr><td>train/loss_step</td><td>█████▇▇▇▇▇█▇▇▇▇▇▇▇▇▇▇▇▇▆▆▆▆▆▆▅▅▅▅▄▄▄▃▃▂▁</td></tr><tr><td>lr</td><td>▁▁▁▁▁▁▁▁▁▁▁▂▂▂▂▂▂▂▂▃▃▃▃▃▄▄▄▄▅▅▅▅▆▆▆▇▇▇██</td></tr><tr><td>_runtime</td><td>▁▁▁▂▂▂▂▂▂▃▃▃▃▄▄▄▄▄▅▅▅▅▅▆▆▆▆▇▇▇▇▇▇███████</td></tr><tr><td>_timestamp</td><td>▁▁▁▂▂▂▂▂▂▃▃▃▃▄▄▄▄▄▅▅▅▅▅▆▆▆▆▇▇▇▇▇▇███████</td></tr><tr><td>_step</td><td>▁▁▁▂▂▂▂▂▂▃▃▃▃▃▄▄▄▄▄▄▅▅▅▅▅▅▆▆▆▆▆▇▇▇▇▇▇███</td></tr><tr><td>valid/step</td><td>▁▁▁▂▂▂▂▂▂▃▃▃▃▃▃▄▄▄▄▄▅▅▅▅▅▅▆▆▆▆▆▇▇▇▇▇▇███</td></tr><tr><td>valid/metric_step</td><td>▁█▇▇▅▆▅▅▅▅▅▅▅▅▆▅▅▅▅▆▆▆▆▆▆▆▆▆▆▆▆▆▆▆▆▆▆▆▆▆</td></tr><tr><td>valid/loss</td><td>▁▁▁▁▁▄▄▃▃▃▃▃▃▃▂▂▂▂▂▂▂▃▃▃▄████▇▇▇▇▇▇▆▆▆▆▆</td></tr></table><br/>"
            ],
            "text/plain": [
              "<IPython.core.display.HTML object>"
            ]
          },
          "metadata": {
            "tags": []
          }
        },
        {
          "output_type": "display_data",
          "data": {
            "text/html": [
              "Synced 4 W&B file(s), 1 media file(s), 0 artifact file(s) and 0 other file(s)"
            ],
            "text/plain": [
              "<IPython.core.display.HTML object>"
            ]
          },
          "metadata": {
            "tags": []
          }
        },
        {
          "output_type": "display_data",
          "data": {
            "text/html": [
              "\n",
              "                    <br/>Synced <strong style=\"color:#cdcd00\">efficientnetv2_rw_s_colab_tawara_bs128_adamW_default_lr1e-06_alpha0.5</strong>: <a href=\"https://wandb.ai/yseeker/your%20project%20name/runs/3ehqtqu6\" target=\"_blank\">https://wandb.ai/yseeker/your%20project%20name/runs/3ehqtqu6</a><br/>\n",
              "                "
            ],
            "text/plain": [
              "<IPython.core.display.HTML object>"
            ]
          },
          "metadata": {
            "tags": []
          }
        },
        {
          "output_type": "display_data",
          "data": {
            "text/html": [
              "...Successfully finished last run (ID:3ehqtqu6). Initializing new run:<br/><br/>"
            ],
            "text/plain": [
              "<IPython.core.display.HTML object>"
            ]
          },
          "metadata": {
            "tags": []
          }
        },
        {
          "output_type": "display_data",
          "data": {
            "text/html": [
              "\n",
              "                Tracking run with wandb version 0.10.33<br/>\n",
              "                Syncing run <strong style=\"color:#cdcd00\">efficientnetv2_rw_s_colab_tawara_bs128_adamW_default_lr1e-06_alpha0.5</strong> to <a href=\"https://wandb.ai\" target=\"_blank\">Weights & Biases</a> <a href=\"https://docs.wandb.com/integrations/jupyter.html\" target=\"_blank\">(Documentation)</a>.<br/>\n",
              "                Project page: <a href=\"https://wandb.ai/yseeker/your%20project%20name\" target=\"_blank\">https://wandb.ai/yseeker/your%20project%20name</a><br/>\n",
              "                Run page: <a href=\"https://wandb.ai/yseeker/your%20project%20name/runs/1poapohe\" target=\"_blank\">https://wandb.ai/yseeker/your%20project%20name/runs/1poapohe</a><br/>\n",
              "                Run data is saved locally in <code>/content/drive/My Drive/kaggle/working/wandb/run-20210702_215352-1poapohe</code><br/><br/>\n",
              "            "
            ],
            "text/plain": [
              "<IPython.core.display.HTML object>"
            ]
          },
          "metadata": {
            "tags": []
          }
        },
        {
          "output_type": "display_data",
          "data": {
            "application/vnd.jupyter.widget-view+json": {
              "model_id": "b1c50ea109d44a479dc4179340fa069e",
              "version_minor": 0,
              "version_major": 2
            },
            "text/plain": [
              "HBox(children=(FloatProgress(value=0.0, max=3500.0), HTML(value='')))"
            ]
          },
          "metadata": {
            "tags": []
          }
        }
      ]
    },
    {
      "cell_type": "code",
      "metadata": {
        "id": "c2G1Te1abzcO"
      },
      "source": [
        ""
      ],
      "execution_count": null,
      "outputs": []
    },
    {
      "cell_type": "code",
      "metadata": {
        "id": "CjL5dji3O9eu"
      },
      "source": [
        "!cp \"/content/drive/MyDrive/kaggle/input/***/sample_submission.csv\" \"/content\"\n",
        "!unzip \"/content/drive/MyDrive/kaggle/input/***/data.zip\" -d \"/content/test\""
      ],
      "execution_count": null,
      "outputs": []
    },
    {
      "cell_type": "code",
      "metadata": {
        "id": "fHWkge7VO6X5"
      },
      "source": [
        "submission = pd.read_csv('/content/sample_submission.csv')\n",
        "submission['img_path'] = submission['id'].apply(\n",
        "    lambda x: f'/content/test/{x}.npy'\n",
        ")\n",
        "test_dataset = ClassificationDataset(\n",
        "    image_paths=submission.img_path.values, \n",
        "    targets=submission.target.values, \n",
        "    transform = train_aug\n",
        ")\n",
        "\n",
        "final_preds = None\n",
        "num_of_ave = 5\n",
        "outs = []\n",
        "for model in models:\n",
        "    for j in range(num_of_ave):\n",
        "        preds = model.predict(test_dataset, batch_size=128, n_jobs=-1)\n",
        "        temp_preds = None\n",
        "        for p in preds:\n",
        "            if temp_preds is None:\n",
        "                temp_preds = p\n",
        "            else:\n",
        "                temp_preds = np.vstack((temp_preds, p))\n",
        "        if final_preds is None:\n",
        "            final_preds = temp_preds\n",
        "        else:\n",
        "            final_preds += temp_preds\n",
        "    final_preds = final_preds/num_of_ave\n",
        "    out = sigmoid_v(final_preds)\n",
        "    outs.append(out)\n",
        "pred = np.mean(np.array(outs), axis=0)\n",
        "submission.target = pred\n",
        "submission.drop(['img_path'], axis=1, inplace=True)\n",
        "submission.to_csv('submission.csv', index=False)"
      ],
      "execution_count": null,
      "outputs": []
    },
    {
      "cell_type": "code",
      "metadata": {
        "id": "1ypq7fetO62I"
      },
      "source": [
        "# for kaggle\n",
        "import os\n",
        "import json\n",
        "f = open(\"/content/drive/My Drive/kaggle/kaggle.json\", 'r')\n",
        "json_data = json.load(f) #JSON形式で読み込む\n",
        "os.environ['KAGGLE_USERNAME'] = json_data['username']\n",
        "os.environ['KAGGLE_KEY'] = json_data['key']\n",
        "os.chdir(\"/content/drive/My Drive/kaggle/working\")\n",
        "\n",
        "!kaggle competitions submit -c titanic -f submission.csv -m 'submit!!'"
      ],
      "execution_count": null,
      "outputs": []
    },
    {
      "cell_type": "code",
      "metadata": {
        "id": "gCiveB_rO69c"
      },
      "source": [
        ""
      ],
      "execution_count": null,
      "outputs": []
    }
  ]
}