{
  "nbformat": 4,
  "nbformat_minor": 0,
  "metadata": {
    "accelerator": "GPU",
    "colab": {
      "name": "template_basic.ipynb",
      "provenance": [],
      "collapsed_sections": [],
      "machine_shape": "hm",
      "mount_file_id": "1urRIQRoh9-gWVmm9KTWjExME5kVcjBWv",
      "authorship_tag": "ABX9TyMNoyEtoHrDvrv8ZzxNZr8x",
      "include_colab_link": true
    },
    "kernelspec": {
      "display_name": "Python 3",
      "name": "python3"
    },
    "language_info": {
      "name": "python"
    },
    "widgets": {
      "application/vnd.jupyter.widget-state+json": {
        "7fc95d65e5704a6db002971b95ed1d76": {
          "model_module": "@jupyter-widgets/controls",
          "model_name": "VBoxModel",
          "state": {
            "_view_name": "VBoxView",
            "_dom_classes": [],
            "_model_name": "VBoxModel",
            "_view_module": "@jupyter-widgets/controls",
            "_model_module_version": "1.5.0",
            "_view_count": null,
            "_view_module_version": "1.5.0",
            "box_style": "",
            "layout": "IPY_MODEL_b8bfbb7729af4f51a689f54435269f33",
            "_model_module": "@jupyter-widgets/controls",
            "children": [
              "IPY_MODEL_d5ff8e29f8f6437b9da67147d6638198",
              "IPY_MODEL_1f72225ab0b641698c6fb95a543352bd"
            ]
          }
        },
        "b8bfbb7729af4f51a689f54435269f33": {
          "model_module": "@jupyter-widgets/base",
          "model_name": "LayoutModel",
          "state": {
            "_view_name": "LayoutView",
            "grid_template_rows": null,
            "right": null,
            "justify_content": null,
            "_view_module": "@jupyter-widgets/base",
            "overflow": null,
            "_model_module_version": "1.2.0",
            "_view_count": null,
            "flex_flow": null,
            "width": null,
            "min_width": null,
            "border": null,
            "align_items": null,
            "bottom": null,
            "_model_module": "@jupyter-widgets/base",
            "top": null,
            "grid_column": null,
            "overflow_y": null,
            "overflow_x": null,
            "grid_auto_flow": null,
            "grid_area": null,
            "grid_template_columns": null,
            "flex": null,
            "_model_name": "LayoutModel",
            "justify_items": null,
            "grid_row": null,
            "max_height": null,
            "align_content": null,
            "visibility": null,
            "align_self": null,
            "height": null,
            "min_height": null,
            "padding": null,
            "grid_auto_rows": null,
            "grid_gap": null,
            "max_width": null,
            "order": null,
            "_view_module_version": "1.2.0",
            "grid_template_areas": null,
            "object_position": null,
            "object_fit": null,
            "grid_auto_columns": null,
            "margin": null,
            "display": null,
            "left": null
          }
        },
        "d5ff8e29f8f6437b9da67147d6638198": {
          "model_module": "@jupyter-widgets/controls",
          "model_name": "LabelModel",
          "state": {
            "_view_name": "LabelView",
            "style": "IPY_MODEL_3b466a6a5a68466f9b9a8a1362ace158",
            "_dom_classes": [],
            "description": "",
            "_model_name": "LabelModel",
            "placeholder": "​",
            "_view_module": "@jupyter-widgets/controls",
            "_model_module_version": "1.5.0",
            "value": " 0.06MB of 0.06MB uploaded (0.00MB deduped)\r",
            "_view_count": null,
            "_view_module_version": "1.5.0",
            "description_tooltip": null,
            "_model_module": "@jupyter-widgets/controls",
            "layout": "IPY_MODEL_c9f61a7d9287478da0158c8775cf8ad4"
          }
        },
        "1f72225ab0b641698c6fb95a543352bd": {
          "model_module": "@jupyter-widgets/controls",
          "model_name": "FloatProgressModel",
          "state": {
            "_view_name": "ProgressView",
            "style": "IPY_MODEL_ac928fb0b7344a59bcd109936a52b417",
            "_dom_classes": [],
            "description": "",
            "_model_name": "FloatProgressModel",
            "bar_style": "",
            "max": 1,
            "_view_module": "@jupyter-widgets/controls",
            "_model_module_version": "1.5.0",
            "value": 1,
            "_view_count": null,
            "_view_module_version": "1.5.0",
            "orientation": "horizontal",
            "min": 0,
            "description_tooltip": null,
            "_model_module": "@jupyter-widgets/controls",
            "layout": "IPY_MODEL_2701c0b04e6649059dd71a51ba376df4"
          }
        },
        "3b466a6a5a68466f9b9a8a1362ace158": {
          "model_module": "@jupyter-widgets/controls",
          "model_name": "DescriptionStyleModel",
          "state": {
            "_view_name": "StyleView",
            "_model_name": "DescriptionStyleModel",
            "description_width": "",
            "_view_module": "@jupyter-widgets/base",
            "_model_module_version": "1.5.0",
            "_view_count": null,
            "_view_module_version": "1.2.0",
            "_model_module": "@jupyter-widgets/controls"
          }
        },
        "c9f61a7d9287478da0158c8775cf8ad4": {
          "model_module": "@jupyter-widgets/base",
          "model_name": "LayoutModel",
          "state": {
            "_view_name": "LayoutView",
            "grid_template_rows": null,
            "right": null,
            "justify_content": null,
            "_view_module": "@jupyter-widgets/base",
            "overflow": null,
            "_model_module_version": "1.2.0",
            "_view_count": null,
            "flex_flow": null,
            "width": null,
            "min_width": null,
            "border": null,
            "align_items": null,
            "bottom": null,
            "_model_module": "@jupyter-widgets/base",
            "top": null,
            "grid_column": null,
            "overflow_y": null,
            "overflow_x": null,
            "grid_auto_flow": null,
            "grid_area": null,
            "grid_template_columns": null,
            "flex": null,
            "_model_name": "LayoutModel",
            "justify_items": null,
            "grid_row": null,
            "max_height": null,
            "align_content": null,
            "visibility": null,
            "align_self": null,
            "height": null,
            "min_height": null,
            "padding": null,
            "grid_auto_rows": null,
            "grid_gap": null,
            "max_width": null,
            "order": null,
            "_view_module_version": "1.2.0",
            "grid_template_areas": null,
            "object_position": null,
            "object_fit": null,
            "grid_auto_columns": null,
            "margin": null,
            "display": null,
            "left": null
          }
        },
        "ac928fb0b7344a59bcd109936a52b417": {
          "model_module": "@jupyter-widgets/controls",
          "model_name": "ProgressStyleModel",
          "state": {
            "_view_name": "StyleView",
            "_model_name": "ProgressStyleModel",
            "description_width": "",
            "_view_module": "@jupyter-widgets/base",
            "_model_module_version": "1.5.0",
            "_view_count": null,
            "_view_module_version": "1.2.0",
            "bar_color": null,
            "_model_module": "@jupyter-widgets/controls"
          }
        },
        "2701c0b04e6649059dd71a51ba376df4": {
          "model_module": "@jupyter-widgets/base",
          "model_name": "LayoutModel",
          "state": {
            "_view_name": "LayoutView",
            "grid_template_rows": null,
            "right": null,
            "justify_content": null,
            "_view_module": "@jupyter-widgets/base",
            "overflow": null,
            "_model_module_version": "1.2.0",
            "_view_count": null,
            "flex_flow": null,
            "width": null,
            "min_width": null,
            "border": null,
            "align_items": null,
            "bottom": null,
            "_model_module": "@jupyter-widgets/base",
            "top": null,
            "grid_column": null,
            "overflow_y": null,
            "overflow_x": null,
            "grid_auto_flow": null,
            "grid_area": null,
            "grid_template_columns": null,
            "flex": null,
            "_model_name": "LayoutModel",
            "justify_items": null,
            "grid_row": null,
            "max_height": null,
            "align_content": null,
            "visibility": null,
            "align_self": null,
            "height": null,
            "min_height": null,
            "padding": null,
            "grid_auto_rows": null,
            "grid_gap": null,
            "max_width": null,
            "order": null,
            "_view_module_version": "1.2.0",
            "grid_template_areas": null,
            "object_position": null,
            "object_fit": null,
            "grid_auto_columns": null,
            "margin": null,
            "display": null,
            "left": null
          }
        },
        "467d427b9c304ada88a81825d98ec3d6": {
          "model_module": "@jupyter-widgets/controls",
          "model_name": "HBoxModel",
          "state": {
            "_view_name": "HBoxView",
            "_dom_classes": [],
            "_model_name": "HBoxModel",
            "_view_module": "@jupyter-widgets/controls",
            "_model_module_version": "1.5.0",
            "_view_count": null,
            "_view_module_version": "1.5.0",
            "box_style": "",
            "layout": "IPY_MODEL_d2451c331dbf47cebdee175d1efb5fa8",
            "_model_module": "@jupyter-widgets/controls",
            "children": [
              "IPY_MODEL_e9a7fc623ab24f88ad680feb8c6a6059",
              "IPY_MODEL_d63c9d202e37458685680ffd0edf0fe9"
            ]
          }
        },
        "d2451c331dbf47cebdee175d1efb5fa8": {
          "model_module": "@jupyter-widgets/base",
          "model_name": "LayoutModel",
          "state": {
            "_view_name": "LayoutView",
            "grid_template_rows": null,
            "right": null,
            "justify_content": null,
            "_view_module": "@jupyter-widgets/base",
            "overflow": null,
            "_model_module_version": "1.2.0",
            "_view_count": null,
            "flex_flow": null,
            "width": null,
            "min_width": null,
            "border": null,
            "align_items": null,
            "bottom": null,
            "_model_module": "@jupyter-widgets/base",
            "top": null,
            "grid_column": null,
            "overflow_y": null,
            "overflow_x": null,
            "grid_auto_flow": null,
            "grid_area": null,
            "grid_template_columns": null,
            "flex": null,
            "_model_name": "LayoutModel",
            "justify_items": null,
            "grid_row": null,
            "max_height": null,
            "align_content": null,
            "visibility": null,
            "align_self": null,
            "height": null,
            "min_height": null,
            "padding": null,
            "grid_auto_rows": null,
            "grid_gap": null,
            "max_width": null,
            "order": null,
            "_view_module_version": "1.2.0",
            "grid_template_areas": null,
            "object_position": null,
            "object_fit": null,
            "grid_auto_columns": null,
            "margin": null,
            "display": null,
            "left": null
          }
        },
        "e9a7fc623ab24f88ad680feb8c6a6059": {
          "model_module": "@jupyter-widgets/controls",
          "model_name": "FloatProgressModel",
          "state": {
            "_view_name": "ProgressView",
            "style": "IPY_MODEL_80acd8f3153a4fb19d43d3146345f218",
            "_dom_classes": [],
            "description": "100%",
            "_model_name": "FloatProgressModel",
            "bar_style": "success",
            "max": 2508,
            "_view_module": "@jupyter-widgets/controls",
            "_model_module_version": "1.5.0",
            "value": 2508,
            "_view_count": null,
            "_view_module_version": "1.5.0",
            "orientation": "horizontal",
            "min": 0,
            "description_tooltip": null,
            "_model_module": "@jupyter-widgets/controls",
            "layout": "IPY_MODEL_21867c5ccdb445488d73531f9a95803b"
          }
        },
        "d63c9d202e37458685680ffd0edf0fe9": {
          "model_module": "@jupyter-widgets/controls",
          "model_name": "HTMLModel",
          "state": {
            "_view_name": "HTMLView",
            "style": "IPY_MODEL_f245b59b9efe43c183483a3626ad1b0c",
            "_dom_classes": [],
            "description": "",
            "_model_name": "HTMLModel",
            "placeholder": "​",
            "_view_module": "@jupyter-widgets/controls",
            "_model_module_version": "1.5.0",
            "value": " 2508/2508 [36:08&lt;00:00,  1.16it/s, lr=3.4e-5, stage=train, train_loss=0.395, train_step_metrics=0.668]",
            "_view_count": null,
            "_view_module_version": "1.5.0",
            "description_tooltip": null,
            "_model_module": "@jupyter-widgets/controls",
            "layout": "IPY_MODEL_2b74f5aa48834a7e882bc9d3a88f8689"
          }
        },
        "80acd8f3153a4fb19d43d3146345f218": {
          "model_module": "@jupyter-widgets/controls",
          "model_name": "ProgressStyleModel",
          "state": {
            "_view_name": "StyleView",
            "_model_name": "ProgressStyleModel",
            "description_width": "initial",
            "_view_module": "@jupyter-widgets/base",
            "_model_module_version": "1.5.0",
            "_view_count": null,
            "_view_module_version": "1.2.0",
            "bar_color": null,
            "_model_module": "@jupyter-widgets/controls"
          }
        },
        "21867c5ccdb445488d73531f9a95803b": {
          "model_module": "@jupyter-widgets/base",
          "model_name": "LayoutModel",
          "state": {
            "_view_name": "LayoutView",
            "grid_template_rows": null,
            "right": null,
            "justify_content": null,
            "_view_module": "@jupyter-widgets/base",
            "overflow": null,
            "_model_module_version": "1.2.0",
            "_view_count": null,
            "flex_flow": null,
            "width": null,
            "min_width": null,
            "border": null,
            "align_items": null,
            "bottom": null,
            "_model_module": "@jupyter-widgets/base",
            "top": null,
            "grid_column": null,
            "overflow_y": null,
            "overflow_x": null,
            "grid_auto_flow": null,
            "grid_area": null,
            "grid_template_columns": null,
            "flex": null,
            "_model_name": "LayoutModel",
            "justify_items": null,
            "grid_row": null,
            "max_height": null,
            "align_content": null,
            "visibility": null,
            "align_self": null,
            "height": null,
            "min_height": null,
            "padding": null,
            "grid_auto_rows": null,
            "grid_gap": null,
            "max_width": null,
            "order": null,
            "_view_module_version": "1.2.0",
            "grid_template_areas": null,
            "object_position": null,
            "object_fit": null,
            "grid_auto_columns": null,
            "margin": null,
            "display": null,
            "left": null
          }
        },
        "f245b59b9efe43c183483a3626ad1b0c": {
          "model_module": "@jupyter-widgets/controls",
          "model_name": "DescriptionStyleModel",
          "state": {
            "_view_name": "StyleView",
            "_model_name": "DescriptionStyleModel",
            "description_width": "",
            "_view_module": "@jupyter-widgets/base",
            "_model_module_version": "1.5.0",
            "_view_count": null,
            "_view_module_version": "1.2.0",
            "_model_module": "@jupyter-widgets/controls"
          }
        },
        "2b74f5aa48834a7e882bc9d3a88f8689": {
          "model_module": "@jupyter-widgets/base",
          "model_name": "LayoutModel",
          "state": {
            "_view_name": "LayoutView",
            "grid_template_rows": null,
            "right": null,
            "justify_content": null,
            "_view_module": "@jupyter-widgets/base",
            "overflow": null,
            "_model_module_version": "1.2.0",
            "_view_count": null,
            "flex_flow": null,
            "width": null,
            "min_width": null,
            "border": null,
            "align_items": null,
            "bottom": null,
            "_model_module": "@jupyter-widgets/base",
            "top": null,
            "grid_column": null,
            "overflow_y": null,
            "overflow_x": null,
            "grid_auto_flow": null,
            "grid_area": null,
            "grid_template_columns": null,
            "flex": null,
            "_model_name": "LayoutModel",
            "justify_items": null,
            "grid_row": null,
            "max_height": null,
            "align_content": null,
            "visibility": null,
            "align_self": null,
            "height": null,
            "min_height": null,
            "padding": null,
            "grid_auto_rows": null,
            "grid_gap": null,
            "max_width": null,
            "order": null,
            "_view_module_version": "1.2.0",
            "grid_template_areas": null,
            "object_position": null,
            "object_fit": null,
            "grid_auto_columns": null,
            "margin": null,
            "display": null,
            "left": null
          }
        },
        "2231bca7145049a5979b2494b65bc095": {
          "model_module": "@jupyter-widgets/controls",
          "model_name": "HBoxModel",
          "state": {
            "_view_name": "HBoxView",
            "_dom_classes": [],
            "_model_name": "HBoxModel",
            "_view_module": "@jupyter-widgets/controls",
            "_model_module_version": "1.5.0",
            "_view_count": null,
            "_view_module_version": "1.5.0",
            "box_style": "",
            "layout": "IPY_MODEL_cc0a25dd93284878b2adaa0089869546",
            "_model_module": "@jupyter-widgets/controls",
            "children": [
              "IPY_MODEL_b0579a116d27492fae77f163ef268010",
              "IPY_MODEL_168e06131b98445dbf65db9ae06154fd"
            ]
          }
        },
        "cc0a25dd93284878b2adaa0089869546": {
          "model_module": "@jupyter-widgets/base",
          "model_name": "LayoutModel",
          "state": {
            "_view_name": "LayoutView",
            "grid_template_rows": null,
            "right": null,
            "justify_content": null,
            "_view_module": "@jupyter-widgets/base",
            "overflow": null,
            "_model_module_version": "1.2.0",
            "_view_count": null,
            "flex_flow": null,
            "width": null,
            "min_width": null,
            "border": null,
            "align_items": null,
            "bottom": null,
            "_model_module": "@jupyter-widgets/base",
            "top": null,
            "grid_column": null,
            "overflow_y": null,
            "overflow_x": null,
            "grid_auto_flow": null,
            "grid_area": null,
            "grid_template_columns": null,
            "flex": null,
            "_model_name": "LayoutModel",
            "justify_items": null,
            "grid_row": null,
            "max_height": null,
            "align_content": null,
            "visibility": null,
            "align_self": null,
            "height": null,
            "min_height": null,
            "padding": null,
            "grid_auto_rows": null,
            "grid_gap": null,
            "max_width": null,
            "order": null,
            "_view_module_version": "1.2.0",
            "grid_template_areas": null,
            "object_position": null,
            "object_fit": null,
            "grid_auto_columns": null,
            "margin": null,
            "display": null,
            "left": null
          }
        },
        "b0579a116d27492fae77f163ef268010": {
          "model_module": "@jupyter-widgets/controls",
          "model_name": "FloatProgressModel",
          "state": {
            "_view_name": "ProgressView",
            "style": "IPY_MODEL_d3de27a36c6c4a7c8c325e5227ab3a8f",
            "_dom_classes": [],
            "description": "  0%",
            "_model_name": "FloatProgressModel",
            "bar_style": "danger",
            "max": 2241,
            "_view_module": "@jupyter-widgets/controls",
            "_model_module_version": "1.5.0",
            "value": 0,
            "_view_count": null,
            "_view_module_version": "1.5.0",
            "orientation": "horizontal",
            "min": 0,
            "description_tooltip": null,
            "_model_module": "@jupyter-widgets/controls",
            "layout": "IPY_MODEL_5868426a839b47d2852778754162091e"
          }
        },
        "168e06131b98445dbf65db9ae06154fd": {
          "model_module": "@jupyter-widgets/controls",
          "model_name": "HTMLModel",
          "state": {
            "_view_name": "HTMLView",
            "style": "IPY_MODEL_78d39235c9644bf580e029bcc3400d80",
            "_dom_classes": [],
            "description": "",
            "_model_name": "HTMLModel",
            "placeholder": "​",
            "_view_module": "@jupyter-widgets/controls",
            "_model_module_version": "1.5.0",
            "value": " 0/2241 [00:32&lt;?, ?it/s, stage=validation, valid_loss=0.032, validate_step_metrics=1]",
            "_view_count": null,
            "_view_module_version": "1.5.0",
            "description_tooltip": null,
            "_model_module": "@jupyter-widgets/controls",
            "layout": "IPY_MODEL_cfc8849b82994f0bbb839a47f7ea33f4"
          }
        },
        "d3de27a36c6c4a7c8c325e5227ab3a8f": {
          "model_module": "@jupyter-widgets/controls",
          "model_name": "ProgressStyleModel",
          "state": {
            "_view_name": "StyleView",
            "_model_name": "ProgressStyleModel",
            "description_width": "initial",
            "_view_module": "@jupyter-widgets/base",
            "_model_module_version": "1.5.0",
            "_view_count": null,
            "_view_module_version": "1.2.0",
            "bar_color": null,
            "_model_module": "@jupyter-widgets/controls"
          }
        },
        "5868426a839b47d2852778754162091e": {
          "model_module": "@jupyter-widgets/base",
          "model_name": "LayoutModel",
          "state": {
            "_view_name": "LayoutView",
            "grid_template_rows": null,
            "right": null,
            "justify_content": null,
            "_view_module": "@jupyter-widgets/base",
            "overflow": null,
            "_model_module_version": "1.2.0",
            "_view_count": null,
            "flex_flow": null,
            "width": null,
            "min_width": null,
            "border": null,
            "align_items": null,
            "bottom": null,
            "_model_module": "@jupyter-widgets/base",
            "top": null,
            "grid_column": null,
            "overflow_y": null,
            "overflow_x": null,
            "grid_auto_flow": null,
            "grid_area": null,
            "grid_template_columns": null,
            "flex": null,
            "_model_name": "LayoutModel",
            "justify_items": null,
            "grid_row": null,
            "max_height": null,
            "align_content": null,
            "visibility": null,
            "align_self": null,
            "height": null,
            "min_height": null,
            "padding": null,
            "grid_auto_rows": null,
            "grid_gap": null,
            "max_width": null,
            "order": null,
            "_view_module_version": "1.2.0",
            "grid_template_areas": null,
            "object_position": null,
            "object_fit": null,
            "grid_auto_columns": null,
            "margin": null,
            "display": null,
            "left": null
          }
        },
        "78d39235c9644bf580e029bcc3400d80": {
          "model_module": "@jupyter-widgets/controls",
          "model_name": "DescriptionStyleModel",
          "state": {
            "_view_name": "StyleView",
            "_model_name": "DescriptionStyleModel",
            "description_width": "",
            "_view_module": "@jupyter-widgets/base",
            "_model_module_version": "1.5.0",
            "_view_count": null,
            "_view_module_version": "1.2.0",
            "_model_module": "@jupyter-widgets/controls"
          }
        },
        "cfc8849b82994f0bbb839a47f7ea33f4": {
          "model_module": "@jupyter-widgets/base",
          "model_name": "LayoutModel",
          "state": {
            "_view_name": "LayoutView",
            "grid_template_rows": null,
            "right": null,
            "justify_content": null,
            "_view_module": "@jupyter-widgets/base",
            "overflow": null,
            "_model_module_version": "1.2.0",
            "_view_count": null,
            "flex_flow": null,
            "width": null,
            "min_width": null,
            "border": null,
            "align_items": null,
            "bottom": null,
            "_model_module": "@jupyter-widgets/base",
            "top": null,
            "grid_column": null,
            "overflow_y": null,
            "overflow_x": null,
            "grid_auto_flow": null,
            "grid_area": null,
            "grid_template_columns": null,
            "flex": null,
            "_model_name": "LayoutModel",
            "justify_items": null,
            "grid_row": null,
            "max_height": null,
            "align_content": null,
            "visibility": null,
            "align_self": null,
            "height": null,
            "min_height": null,
            "padding": null,
            "grid_auto_rows": null,
            "grid_gap": null,
            "max_width": null,
            "order": null,
            "_view_module_version": "1.2.0",
            "grid_template_areas": null,
            "object_position": null,
            "object_fit": null,
            "grid_auto_columns": null,
            "margin": null,
            "display": null,
            "left": null
          }
        }
      }
    }
  },
  "cells": [
    {
      "cell_type": "markdown",
      "metadata": {
        "id": "view-in-github",
        "colab_type": "text"
      },
      "source": [
        "<a href=\"https://colab.research.google.com/github/yseeker/pytorch_templates/blob/main/template_basic.ipynb\" target=\"_parent\"><img src=\"https://colab.research.google.com/assets/colab-badge.svg\" alt=\"Open In Colab\"/></a>"
      ]
    },
    {
      "cell_type": "code",
      "metadata": {
        "id": "1xDJzJCP7G-O",
        "colab": {
          "base_uri": "https://localhost:8080/"
        },
        "outputId": "57830736-66da-4ea8-fbca-343c0b1ed6f4"
      },
      "source": [
        "!nvidia-smi"
      ],
      "execution_count": null,
      "outputs": [
        {
          "output_type": "stream",
          "text": [
            "Thu Jul  1 01:15:07 2021       \n",
            "+-----------------------------------------------------------------------------+\n",
            "| NVIDIA-SMI 465.27       Driver Version: 460.32.03    CUDA Version: 11.2     |\n",
            "|-------------------------------+----------------------+----------------------+\n",
            "| GPU  Name        Persistence-M| Bus-Id        Disp.A | Volatile Uncorr. ECC |\n",
            "| Fan  Temp  Perf  Pwr:Usage/Cap|         Memory-Usage | GPU-Util  Compute M. |\n",
            "|                               |                      |               MIG M. |\n",
            "|===============================+======================+======================|\n",
            "|   0  Tesla P100-PCIE...  Off  | 00000000:00:04.0 Off |                    0 |\n",
            "| N/A   35C    P0    27W / 250W |      0MiB / 16280MiB |      0%      Default |\n",
            "|                               |                      |                  N/A |\n",
            "+-------------------------------+----------------------+----------------------+\n",
            "                                                                               \n",
            "+-----------------------------------------------------------------------------+\n",
            "| Processes:                                                                  |\n",
            "|  GPU   GI   CI        PID   Type   Process name                  GPU Memory |\n",
            "|        ID   ID                                                   Usage      |\n",
            "|=============================================================================|\n",
            "|  No running processes found                                                 |\n",
            "+-----------------------------------------------------------------------------+\n"
          ],
          "name": "stdout"
        }
      ]
    },
    {
      "cell_type": "code",
      "metadata": {
        "id": "4FgOZvp9Twko"
      },
      "source": [
        "!pip install gwpy --quiet"
      ],
      "execution_count": null,
      "outputs": []
    },
    {
      "cell_type": "code",
      "metadata": {
        "id": "ONHqlHq6TzWe"
      },
      "source": [
        "%%capture\n",
        "class CFG:\n",
        "    project_name = 'your project name'\n",
        "    pretrained_model_name = 'efficientnetv2_rw_s'\n",
        "    pretrained = True\n",
        "    prettained_path = '../input/timm_weight/efficientnet_b0_ra-3dd342df.pth'\n",
        "    mixup_alpha = 0.5\n",
        "    lr = 1.0e-6\n",
        "    batch_size= 16\n",
        "    wandb_note = f'tawara_bs{batch_size}_adamW_default_lr{lr}_alpha{mixup_alpha}'\n",
        "    input_channels = 3\n",
        "    out_dim = 1\n",
        "    colab_or_kaggle = 'colab'\n",
        "    wandb_exp_name = f'{pretrained_model_name}_{colab_or_kaggle}_{wandb_note}'\n",
        "    epochs = 60\n",
        "    num_of_fold = 5\n",
        "    seed = 42\n",
        "    patience = 3\n",
        "    delta = 0.002\n",
        "    num_workers = 8\n",
        "    fp16 = True\n",
        "    checkpoint_path = ''\n",
        "    patience_mode = 'max'\n",
        "    patience = 3\n",
        "    delta = 0.002"
      ],
      "execution_count": null,
      "outputs": []
    },
    {
      "cell_type": "code",
      "metadata": {
        "id": "qAD1kL_xEzUj"
      },
      "source": [
        "# Kaggle\n",
        "import os\n",
        "import json\n",
        "f = open(\"/content/drive/My Drive/kaggle/kaggle.json\", 'r')\n",
        "json_data = json.load(f) #JSON形式で読み込む\n",
        "os.environ['KAGGLE_USERNAME'] = json_data['username']\n",
        "os.environ['KAGGLE_KEY'] = json_data['key']\n",
        "os.chdir(\"/content/drive/My Drive/kaggle/working\")\n",
        "os.chdir(\"/content\") #content 直下"
      ],
      "execution_count": null,
      "outputs": []
    },
    {
      "cell_type": "code",
      "metadata": {
        "id": "JTPtXCdJE3wK"
      },
      "source": [
        "%%capture\n",
        "!pip install --upgrade albumentations\n",
        "!pip install --upgrade wandb\n",
        "!pip install --!pip install colabcode --upgrade\n",
        "# ColabCode()\n",
        "\n",
        "import os\n",
        "import sys\n",
        "import random\n",
        "from pathlib import Path\n",
        "#from tqdm import tqdm\n",
        "from tqdm.notebook import tqdm\n",
        "import datetime\n",
        "import psutil\n",
        "\n",
        "import pandas as pd\n",
        "import numpy as np\n",
        "from sklearn import metrics\n",
        "from sklearn.model_selection import StratifiedKFold\n",
        "import torch\n",
        "import torch.nn as nn\n",
        "import torchvision\n",
        "from torchsummary import summary\n",
        "\n",
        "import cv2\n",
        "from PIL import Image\n",
        "import albumentations as A\n",
        "import timm\n",
        "\n",
        "import wandb\n",
        "from colabcode import ColabCode\n",
        "import warnings\n",
        "\n",
        "warnings.filterwarnings(\"ignore\")"
      ],
      "execution_count": null,
      "outputs": []
    },
    {
      "cell_type": "code",
      "metadata": {
        "id": "0w1ohCx7FD2R"
      },
      "source": [
        "#If internet is off\n",
        "tez_path = '../input/tez-lib'\n",
        "efnet_path = '../input/efficientnet-pytorch/EfficientNet-PyTorch/EfficientNet-PyTorch-master'\n",
        "timm_path = '../input/pytorch-image-models-master'\n",
        "sys.path.append(tez_path)\n",
        "sys.path.append(efnet_path)\n",
        "sys.path.append(timm_path)"
      ],
      "execution_count": null,
      "outputs": []
    },
    {
      "cell_type": "code",
      "metadata": {
        "id": "v6ULGIlopdyk"
      },
      "source": [
        "# Utils\n",
        "def set_seed(seed = 0):\n",
        "    np.random.seed(seed)\n",
        "    random_state = np.random.RandomState(seed)\n",
        "    random.seed(seed)\n",
        "    torch.manual_seed(seed)\n",
        "    torch.cuda.manual_seed(seed)\n",
        "    os.environ['PYTHONHASHSEED'] = str(seed)\n",
        "    return random_state\n",
        "\n",
        "def mixup_data(inputs, targets, alpha=1.0):\n",
        "    if alpha > 0:\n",
        "        lam = np.random.beta(alpha, alpha)\n",
        "    else:\n",
        "        lam = 1\n",
        "    batch_size = inputs.size()[0]\n",
        "    index = torch.randperm(batch_size)\n",
        "    mixed_inputs = lam * inputs + (1 - lam) * inputs[index, :]\n",
        "    targets_a, targets_b = targets, targets[index]\n",
        "    \n",
        "    return mixed_inputs, targets_a, targets_b, lam\n",
        "\n",
        "def mixup_criterion(criterion, outputs, targets_a, targets_b, lam):\n",
        "    return lam * criterion(outputs, targets_a) + (1 - lam) * criterion(outputs, targets_b)"
      ],
      "execution_count": null,
      "outputs": []
    },
    {
      "cell_type": "code",
      "metadata": {
        "id": "i88MLFLA0gvh"
      },
      "source": [
        "class AverageMeter:\n",
        "    def __init__(self):\n",
        "        self.val = 0\n",
        "        self.avg = 0\n",
        "        self.sum = 0\n",
        "        self.count = 0\n",
        "\n",
        "    def reset(self):\n",
        "        self.val = 0\n",
        "        self.avg = 0\n",
        "        self.sum = 0\n",
        "        self.count = 0\n",
        "\n",
        "    def update(self, val, n=1):\n",
        "        self.val = val\n",
        "        self.sum += val * n\n",
        "        self.count += n\n",
        "        self.avg = self.sum / self.count"
      ],
      "execution_count": null,
      "outputs": []
    },
    {
      "cell_type": "code",
      "metadata": {
        "id": "bIgBPBdWGYLR"
      },
      "source": [
        "train_aug = A.Compose(\n",
        "    [\n",
        "        A.Resize(p = 1.0, height = 512, width = 512),\n",
        "        A.HorizontalFlip(p=0.5),\n",
        "        A.VerticalFlip(p=0.5),\n",
        "        A.ShiftScaleRotate(p=0.5,\n",
        "                           shift_limit = 0.2, \n",
        "                           scale_limit=0.2,\n",
        "                           rotate_limit=30, \n",
        "                           border_mode = cv2.BORDER_REPLICATE),\n",
        "        A.RandomResizedCrop(\n",
        "            p = 1.0,\n",
        "            height = 320,\n",
        "            width = 320,\n",
        "            scale = [0.9, 1.0]\n",
        "        ),\n",
        "        A.OneOf([\n",
        "            A.MedianBlur(p=0.3),\n",
        "            A.MotionBlur(p=0.3)\n",
        "        ]\n",
        "        )\n",
        "    ]\n",
        ")\n",
        "df = pd.read_csv('../input/***/train_labels.csv')\n",
        "df['img_path'] = df['id'].apply(\n",
        "    lambda x: f'../input/***/train/{x[0]}/{x}.npy'\n",
        ")\n",
        "X = df.img_path.values\n",
        "Y = df.target.values\n",
        "skf = StratifiedKFold(n_splits = CFG.num_of_fold)\n",
        "\n",
        "class ClassificationDataset():\n",
        "    def __init__(self, image_paths, targets, transform = None): \n",
        "        self.image_paths = image_paths\n",
        "        self.targets = targets\n",
        "        self.transform = None\n",
        "\n",
        "    def __len__(self):\n",
        "        return len(self.image_paths)\n",
        "    \n",
        "    def __getitem__(self, item): \n",
        "        image = cv2.imread(self.image_paths[item])\n",
        "        image = cv2.cvtColor(image, cv2.COLOR_BGR2RGB)\n",
        "        if self.augmentations is not None:\n",
        "            augmented = self.augmentations(image=image)\n",
        "            image = augmented[\"image\"]\n",
        "\n",
        "        image_tensor = torch.tensor(image)\n",
        "        return image_tensor, torch.tensor(targets)"
      ],
      "execution_count": null,
      "outputs": []
    },
    {
      "cell_type": "code",
      "metadata": {
        "id": "3DYCYENwjwvj"
      },
      "source": [
        "class BasicNN(nn.Module):\n",
        "    def __init__(self):\n",
        "        super().__init__()\n",
        "        self.model = timm.create_model(CFG.pretrained_model_name, \n",
        "                                       pretrained = CFG.pretrained, \n",
        "                                       in_chans = CFG.input_channels)\n",
        "        if not CFG.pretrained: self.model.load_state_dict(torch.load(CFG.pretrained_path))\n",
        "        self.model.classifier = nn.Linear(self.model.classifier.in_features, CFG.out_dim)\n",
        "        \n",
        "    def forward(self, inputs):\n",
        "        outputs = self.model(inputs)\n",
        "        return outputs\n",
        "\n",
        "class Trainer():\n",
        "    def __init__(\n",
        "        self,\n",
        "        model,\n",
        "        train_dataset,\n",
        "        valid_dataset = None,\n",
        "        train_batchsize = 16,\n",
        "        valid_batchsize = 16,\n",
        "        valid_targets = None,\n",
        "        num_workers = 4,\n",
        "        fp16 = True,\n",
        "        multiple_GPU = False,\n",
        "        determinstic = True,\n",
        "        benchmark = False\n",
        "    ):\n",
        "        self.device = torch.device(\"cuda:0\" if torch.cuda.is_available() else \"cpu\")\n",
        "        \n",
        "        self.model = model\n",
        "        self.model.to(self.device)\n",
        "        self.valid_targets = valid_targets\n",
        "\n",
        "        self.criterion = nn.BCEWithLogitsLoss()\n",
        "        self.optimizer = self.configure_optimizer()\n",
        "        self.scheduler_after_step = self.configure_scheduler_after_step()\n",
        "        self.scheduler_after_epoch = self.configure_scheduler_after_epoch()\n",
        "\n",
        "        torch.backends.cudnn.deterministic = determinstic\n",
        "        torch.backends.cudnn.benchmark = benchmark\n",
        "        self.fp16 = fp16\n",
        "        self.scaler = torch.cuda.amp.GradScaler() \n",
        "        \n",
        "        if num_workers == -1: num_workers = psutil.cpu_count()\n",
        "        self.multiple_GPU = multiple_GPU\n",
        "        if multiple_GPU and torch.cuda.device_count() > 1:\n",
        "            print(\"Let's use\", torch.cuda.device_count(), \"GPUs!\")\n",
        "            self = nn.DataParallel(self)\n",
        "        \n",
        "        self.train_loader = torch.utils.data.DataLoader(\n",
        "            dataset = train_dataset, \n",
        "            batch_size = train_batchsize,\n",
        "            shuffle=True, \n",
        "            num_workers= num_workers,\n",
        "            drop_last = True,\n",
        "            pin_memory = True\n",
        "        )\n",
        "        self.valid_loader = torch.utils.data.DataLoader(\n",
        "            dataset = valid_dataset, \n",
        "            batch_size=valid_batchsize,\n",
        "            shuffle=False, \n",
        "            num_workers = num_workers,\n",
        "            drop_last = False,\n",
        "            pin_memory = True\n",
        "        )\n",
        "\n",
        "    def _init_wandb(self, cfg):\n",
        "        hyperparams = {\n",
        "            'batch_size' : cfg.batch_size,\n",
        "            'epochs' : cfg.epochs\n",
        "        }\n",
        "        wandb.init(\n",
        "            config = hyperparams,\n",
        "            project= cfg.project_name,\n",
        "            name=cfg.wandb_exp_name,\n",
        "        )\n",
        "        wandb.watch(self.model)\n",
        "\n",
        "    def configure_optimizer(self):\n",
        "        opt = torch.optim.Adam(self.model.parameters(), lr=CFG.lr)\n",
        "        return opt\n",
        "    \n",
        "    def configure_scheduler_after_step(self):\n",
        "        sch = torch.optim.lr_scheduler.OneCycleLR(\n",
        "            optimizer = self.optimizer,\n",
        "            epochs = CFG.epochs,\n",
        "            steps_per_epoch = 2508,\n",
        "            max_lr = 5.0e-4,\n",
        "            pct_start = 0.1,\n",
        "            anneal_strategy = 'cos',\n",
        "            div_factor = 1.0e+3,\n",
        "            final_div_factor = 1.0e+3\n",
        "        )\n",
        "        return sch\n",
        "\n",
        "    def configure_scheduler_after_epoch(self):\n",
        "        return None\n",
        "\n",
        "    def epoch_metrics(self, outputs, targets):\n",
        "        return metrics.roc_auc_score(targets, outputs)\n",
        "\n",
        "    def monitor_metrics(self, outputs, targets):\n",
        "        outputs = outputs.cpu().detach().numpy()\n",
        "        targets = targets.cpu().detach().numpy()\n",
        "        if len(np.unique(targets)) > 1: \n",
        "            roc_auc = metrics.roc_auc_score(targets, outputs)\n",
        "        else: roc_auc = 1.0\n",
        "        return roc_auc\n",
        "\n",
        "    def train_one_step(self, inputs, targets):\n",
        "        inputs = inputs.to(self.device, non_blocking=True)\n",
        "        targets = targets.to(self.device, non_blocking=True)\n",
        "        inputs, targets_a, targets_b, lam = mixup_data(inputs, \n",
        "                                                      targets,\n",
        "                                                      alpha= CFG.mixup_alpha)\n",
        "        self.optimizer.zero_grad()\n",
        "        with torch.set_grad_enabled(True):\n",
        "            if self.fp16:\n",
        "                with torch.cuda.amp.autocast(self.fp16):\n",
        "                    outputs = self.model(inputs)\n",
        "                    #loss = self.criterion(outputs, targets.view(-1, 1))\n",
        "                    loss = mixup_criterion(self.criterion,\n",
        "                                                outputs, \n",
        "                                                targets_a.view(-1, 1),\n",
        "                                                targets_b.view(-1, 1), \n",
        "                                                lam)\n",
        "                    metrics = self.monitor_metrics(outputs, targets)\n",
        "                self.scaler.scale(loss).backward()\n",
        "                self.scaler.step(self.optimizer)\n",
        "                self.scaler.update()\n",
        "            else:\n",
        "                outputs = self(inputs)\n",
        "                metrics = self.monitor_metrics(outputs, targets)\n",
        "                loss = self.criterion(outputs, targets.view(-1, 1))\n",
        "                loss.backward()\n",
        "                self.optimizer.step()\n",
        "            if self.scheduler_after_step:\n",
        "                self.scheduler_after_step.step()\n",
        "        return outputs, loss, metrics\n",
        "\n",
        "    def validate_one_step(self, inputs, targets = None):\n",
        "        inputs = inputs.to(self.device, non_blocking=True)\n",
        "        if targets is not None:\n",
        "            targets = targets.to(self.device, non_blocking=True)\n",
        "            with torch.no_grad():\n",
        "                outputs = self.model(inputs)\n",
        "                loss = self.criterion(outputs, targets.view(-1, 1))\n",
        "                metrics = self.monitor_metrics(outputs, targets)\n",
        "            return outputs, loss, metrics\n",
        "        else:\n",
        "            outputs = self(inputs)\n",
        "            return outputs, None, None\n",
        "\n",
        "    def predict_one_step(self, inputs):\n",
        "        outputs, _, _ = self.validate_one_step(inputs)\n",
        "        return outputs\n",
        "        \n",
        "    def train_one_epoch(self, data_loader):\n",
        "        self.model.train()\n",
        "        running_loss, running_metrics = AverageMeter(), AverageMeter()\n",
        "        tk0 = tqdm(data_loader, total=len(data_loader), position = 0, leave = True)\n",
        "        for b_idx, (inputs, targets) in enumerate(tk0):\n",
        "            preds_one_batch, loss, metrics = self.train_one_step(inputs, targets)\n",
        "            running_loss.update(loss.item(), data_loader.batch_size)\n",
        "            running_metrics.update(metrics, data_loader.batch_size)\n",
        "            current_lr = self.optimizer.param_groups[0]['lr'] \n",
        "            wandb.log({\n",
        "                \"train/step\" : b_idx,\n",
        "                \"train/loss_step\": running_loss.avg,\n",
        "                \"lr\": current_lr \n",
        "                })\n",
        "            tk0.set_postfix(train_loss=running_loss.avg, train_step_metrics = running_metrics.avg, stage=\"train\", lr = current_lr)\n",
        "        if self.scheduler_after_epoch:\n",
        "            self.scheduler_after_epoch.step()\n",
        "        tk0.close()\n",
        "        return running_loss.avg\n",
        "\n",
        "    def validate_one_epoch(self, data_loader):\n",
        "        self.model.eval()\n",
        "        running_loss, running_metrics = AverageMeter(), AverageMeter()\n",
        "        preds_list = []\n",
        "        tk0 = tqdm(data_loader, total=len(data_loader), position = 0, leave = True)\n",
        "        for b_idx, (inputs, targets) in enumerate(tk0):\n",
        "            preds_one_batch, loss, metrics = self.validate_one_step(inputs, targets)\n",
        "            preds_list.append(preds_one_batch.cpu().detach().numpy())\n",
        "            running_loss.update(loss.item(), data_loader.batch_size)\n",
        "            running_metrics.update(metrics, data_loader.batch_size)\n",
        "            tk0.set_postfix(valid_loss = running_loss.avg, validate_step_metrics = running_metrics.avg, stage=\"validation\")\n",
        "            wandb.log({\n",
        "                \"valid/step\" : b_idx,\n",
        "                \"valid/metric_step\" : running_metrics.avg,\n",
        "                \"valid/loss\": running_loss.avg, \n",
        "                })\n",
        "        preds_arr = np.concatenate(preds_list)\n",
        "        valid_metric_val = self.epoch_metrics(preds_arr, self.valid_targets)\n",
        "        tk0.close()\n",
        "        return valid_metric_val, running_loss.avg\n",
        "\n",
        "    def predict(\n",
        "        self,\n",
        "        dataset,\n",
        "        batch_size = 16,\n",
        "        num_workers = 8,\n",
        "    ):\n",
        "        self.model.eval()\n",
        "        self.test_loader =  torch.utils.data.DataLoader(\n",
        "            dataset = test_dataset, \n",
        "            batch_size = batch_size,\n",
        "            shuffle = False, \n",
        "            num_workers= num_workers,\n",
        "            drop_last = False,\n",
        "            pin_memory = True\n",
        "        )\n",
        "        preds_list = []\n",
        "        tk0 = tqdm(data_loader, total=len(self.test_loader), position = 0, leave = True)\n",
        "        for b_idx, (inputs, targets) in enumerate(tk0):\n",
        "            preds_one_batch = self.predict_one_step(inputs, targets)\n",
        "            preds_list.append(preds_one_batch.cpu().detach().numpy())\n",
        "            tk0.set_postfix(stage=\"inference\")\n",
        "        tk0.close()\n",
        "        preds_arr = np.concatenate(preds_list)\n",
        "        return preds_arr\n",
        "\n",
        "    def save(self, model_path):\n",
        "        model_state_dict = self.state_dict()\n",
        "        if self.optimizer is not None:\n",
        "            opt_state_dict = self.optimizer.state_dict()\n",
        "        else:\n",
        "            opt_state_dict = None\n",
        "        if self.scheduler_after_step is not None:\n",
        "            sch_state_dict_after_step = self.scheduler_after_step.state_dict()\n",
        "        else:\n",
        "            sch_state_dict_after_step = None\n",
        "        if self.scheduler_after_epoch is not None:\n",
        "            sch_state_dict_after_epoch = self.scheduler_after_epoch.state_dict()\n",
        "        else:\n",
        "            sch_state_dict_after_epoch = None\n",
        "        model_dict = {}\n",
        "        model_dict[\"state_dict\"] = model_state_dict\n",
        "        model_dict[\"optimizer\"] = opt_state_dict\n",
        "        model_dict[\"scheduler_after_step\"] = sch_state_dict_after_step\n",
        "        model_dict[\"scheduler_after_epoch\"] = sch_state_dict_after_epoch\n",
        "        model_dict[\"epoch\"] = self.current_epoch\n",
        "        model_dict[\"fp16\"] = self.fp16\n",
        "        model_dict[\"multiple_GPU\"] = self.multiple_GPU\n",
        "        torch.save(model_dict, model_path)\n",
        "\n",
        "    def load(self, model_path):\n",
        "        self.device = torch.device(\"cuda:0\" if torch.cuda.is_available() else \"cpu\")\n",
        "        if next(self.model.parameters()).device != self.device:\n",
        "            self.to(self.device)\n",
        "        model_dict = torch.load(model_path, map_location=torch.device(device))\n",
        "        self.load_state_dict(model_dict[\"state_dict\"])\n",
        "\n",
        "    def fit(\n",
        "        self,\n",
        "        cfg,\n",
        "        epochs = 5,\n",
        "        checkpoint_save_path = '',\n",
        "        mode = 'max',\n",
        "        patience = 10,\n",
        "        delta = 0.001,\n",
        "    ):\n",
        "        set_seed(CFG.seed)\n",
        "        self._init_wandb(cfg)\n",
        "        path_directory = Path(checkpoint_save_path)\n",
        "        if mode == 'max':\n",
        "            current_best_valid_metrics = -float('inf')\n",
        "        else:\n",
        "            current_best_valid_metrics= float('inf')\n",
        "        early_stopping_counter = 0\n",
        "\n",
        "        for epoch in range(epochs):\n",
        "            train_loss = self.train_one_epoch(self.train_loader)\n",
        "            if valid_dataset:\n",
        "                valid_metrics, valid_loss = self.validate_one_epoch(self.valid_loader)\n",
        "                # Early Stopping and save at the check points.\n",
        "                if mode == 'max':\n",
        "                    if valid_metrics < current_best_valid_metrics + delta:\n",
        "                        early_stopping_counter += 1\n",
        "                        print(f'EarlyStopping counter: {early_stopping_counter} out of {patience}')\n",
        "                        if early_stopping_counter >= patience: break\n",
        "                    else:\n",
        "                        print(f\"Validation score improved ({current_best_valid_metrics} --> {valid_metrics}). Saving the check point!\")\n",
        "                        current_best_validmetrics= valid_metrics\n",
        "                        self.save(checkpoint_save_path / f\"{cfg.pretrained_model_name}_epoch{epoch}.cpt\" )\n",
        "                else:\n",
        "                    if valid_metrics > current_best_valid_metrics - delta:\n",
        "                        early_stopping_counter += 1\n",
        "                        print(f'EarlyStopping counter: {early_stopping_counter} out of {patience}')\n",
        "                        if early_stopping_counter >= patience: break\n",
        "                    else:\n",
        "                        print(f\"Validation score improved ({current_best_valid_metrics} --> {valid_metrics}). Saving the check point!\")\n",
        "                        current_best_valid_metrics = valid_metrics\n",
        "                        self.save(checkpoint_save_path / f\"{cfg.pretrained_model_name}_epoch{epoch}.cpt\" )\n",
        "                        \n",
        "            #writer.add_scalar(\"Loss/train\", 1.0, epoch)\n",
        "            print(f'epoch: {epoch}, validate_epoch_metrics : {valid_metrics}')\n",
        "            wandb.log({\n",
        "                \"epoch\" : epoch,\n",
        "                \"train/loss\" : train_loss,\n",
        "                \"valid/loss\" : valid_loss,\n",
        "                \"valid/metric\" : valid_metrics,\n",
        "                })\n",
        "        wandb.finish()\n",
        "        torch.cuda.empty_cache()\n",
        "        gc.collect()"
      ],
      "execution_count": null,
      "outputs": []
    },
    {
      "cell_type": "code",
      "metadata": {
        "colab": {
          "base_uri": "https://localhost:8080/",
          "height": 789,
          "referenced_widgets": [
            "7fc95d65e5704a6db002971b95ed1d76",
            "b8bfbb7729af4f51a689f54435269f33",
            "d5ff8e29f8f6437b9da67147d6638198",
            "1f72225ab0b641698c6fb95a543352bd",
            "3b466a6a5a68466f9b9a8a1362ace158",
            "c9f61a7d9287478da0158c8775cf8ad4",
            "ac928fb0b7344a59bcd109936a52b417",
            "2701c0b04e6649059dd71a51ba376df4",
            "467d427b9c304ada88a81825d98ec3d6",
            "d2451c331dbf47cebdee175d1efb5fa8",
            "e9a7fc623ab24f88ad680feb8c6a6059",
            "d63c9d202e37458685680ffd0edf0fe9",
            "80acd8f3153a4fb19d43d3146345f218",
            "21867c5ccdb445488d73531f9a95803b",
            "f245b59b9efe43c183483a3626ad1b0c",
            "2b74f5aa48834a7e882bc9d3a88f8689",
            "2231bca7145049a5979b2494b65bc095",
            "cc0a25dd93284878b2adaa0089869546",
            "b0579a116d27492fae77f163ef268010",
            "168e06131b98445dbf65db9ae06154fd",
            "d3de27a36c6c4a7c8c325e5227ab3a8f",
            "5868426a839b47d2852778754162091e",
            "78d39235c9644bf580e029bcc3400d80",
            "cfc8849b82994f0bbb839a47f7ea33f4"
          ]
        },
        "id": "7mqPApu1TO-W",
        "outputId": "cd0f4aef-d489-41cc-d908-85d942c80925"
      },
      "source": [
        "for fold_cnt, (train_index, test_index) in enumerate(skf.split(X, Y), 1):\n",
        "    train_images, valid_images = X[train_index], X[train_index]\n",
        "    train_targets, valid_targets = Y[train_index], Y[test_index]\n",
        "\n",
        "    train_dataset = ClassificationDataset(\n",
        "        image_paths=train_images, \n",
        "        targets=train_targets, \n",
        "        transform = train_aug\n",
        "    )\n",
        "    valid_dataset = ClassificationDataset(\n",
        "        image_paths=valid_images, \n",
        "        targets=valid_targets, \n",
        "        transform = None\n",
        "    )\n",
        "    model = BasicNN()\n",
        "\n",
        "    trainer = Trainer(\n",
        "        model = model,\n",
        "        train_dataset = train_dataset,\n",
        "        valid_dataset = valid_dataset,\n",
        "        valid_targets = valid_targets,\n",
        "        train_batchsize = CFG.batch_size,\n",
        "        valid_batchsize = CFG.batch_size,\n",
        "        num_workers = CFG.num_workers,\n",
        "        fp16 = CFG.fp16,\n",
        "    )\n",
        "\n",
        "    trainer.fit(\n",
        "        cfg = CFG,\n",
        "        epochs = CFG.epochs,\n",
        "        checkpoint_save_path = CFG.checkpoint_path,\n",
        "        mode = CFG.patience_mode,\n",
        "        patience = CFG.patience,\n",
        "        delta = CFG.delta\n",
        "    )\n"
      ],
      "execution_count": null,
      "outputs": [
        {
          "output_type": "display_data",
          "data": {
            "text/html": [
              "Finishing last run (ID:xmzy9jbk) before initializing another..."
            ],
            "text/plain": [
              "<IPython.core.display.HTML object>"
            ]
          },
          "metadata": {
            "tags": []
          }
        },
        {
          "output_type": "display_data",
          "data": {
            "text/html": [
              "<br/>Waiting for W&B process to finish, PID 1411<br/>Program ended successfully."
            ],
            "text/plain": [
              "<IPython.core.display.HTML object>"
            ]
          },
          "metadata": {
            "tags": []
          }
        },
        {
          "output_type": "display_data",
          "data": {
            "application/vnd.jupyter.widget-view+json": {
              "model_id": "7fc95d65e5704a6db002971b95ed1d76",
              "version_minor": 0,
              "version_major": 2
            },
            "text/plain": [
              "VBox(children=(Label(value=' 0.05MB of 0.05MB uploaded (0.00MB deduped)\\r'), FloatProgress(value=1.0, max=1.0)…"
            ]
          },
          "metadata": {
            "tags": []
          }
        },
        {
          "output_type": "display_data",
          "data": {
            "text/html": [
              "Find user logs for this run at: <code>/content/drive/My Drive/kaggle/working/wandb/run-20210701_001303-xmzy9jbk/logs/debug.log</code>"
            ],
            "text/plain": [
              "<IPython.core.display.HTML object>"
            ]
          },
          "metadata": {
            "tags": []
          }
        },
        {
          "output_type": "display_data",
          "data": {
            "text/html": [
              "Find internal logs for this run at: <code>/content/drive/My Drive/kaggle/working/wandb/run-20210701_001303-xmzy9jbk/logs/debug-internal.log</code>"
            ],
            "text/plain": [
              "<IPython.core.display.HTML object>"
            ]
          },
          "metadata": {
            "tags": []
          }
        },
        {
          "output_type": "display_data",
          "data": {
            "text/html": [
              "<h3>Run summary:</h3><br/><style>\n",
              "    table.wandb td:nth-child(1) { padding: 0 10px; text-align: right }\n",
              "    </style><table class=\"wandb\">\n",
              "</table>"
            ],
            "text/plain": [
              "<IPython.core.display.HTML object>"
            ]
          },
          "metadata": {
            "tags": []
          }
        },
        {
          "output_type": "display_data",
          "data": {
            "text/html": [
              "Synced 4 W&B file(s), 1 media file(s), 0 artifact file(s) and 0 other file(s)"
            ],
            "text/plain": [
              "<IPython.core.display.HTML object>"
            ]
          },
          "metadata": {
            "tags": []
          }
        },
        {
          "output_type": "display_data",
          "data": {
            "text/html": [
              "\n",
              "                    <br/>Synced <strong style=\"color:#cdcd00\">efficientnetv2_rw_s_colab_tawara_bs16_adamW_default_lr1e-06_alpha0.5</strong>: <a href=\"https://wandb.ai/yseeker/SETI_aug_check2/runs/xmzy9jbk\" target=\"_blank\">https://wandb.ai/yseeker/SETI_aug_check2/runs/xmzy9jbk</a><br/>\n",
              "                "
            ],
            "text/plain": [
              "<IPython.core.display.HTML object>"
            ]
          },
          "metadata": {
            "tags": []
          }
        },
        {
          "output_type": "display_data",
          "data": {
            "text/html": [
              "...Successfully finished last run (ID:xmzy9jbk). Initializing new run:<br/><br/>"
            ],
            "text/plain": [
              "<IPython.core.display.HTML object>"
            ]
          },
          "metadata": {
            "tags": []
          }
        },
        {
          "output_type": "display_data",
          "data": {
            "text/html": [
              "\n",
              "                Tracking run with wandb version 0.10.33<br/>\n",
              "                Syncing run <strong style=\"color:#cdcd00\">efficientnetv2_rw_s_colab_tawara_bs16_adamW_default_lr1e-06_alpha0.5</strong> to <a href=\"https://wandb.ai\" target=\"_blank\">Weights & Biases</a> <a href=\"https://docs.wandb.com/integrations/jupyter.html\" target=\"_blank\">(Documentation)</a>.<br/>\n",
              "                Project page: <a href=\"https://wandb.ai/yseeker/SETI_aug_check2\" target=\"_blank\">https://wandb.ai/yseeker/SETI_aug_check2</a><br/>\n",
              "                Run page: <a href=\"https://wandb.ai/yseeker/SETI_aug_check2/runs/2vo4g8nt\" target=\"_blank\">https://wandb.ai/yseeker/SETI_aug_check2/runs/2vo4g8nt</a><br/>\n",
              "                Run data is saved locally in <code>/content/drive/My Drive/kaggle/working/wandb/run-20210701_001407-2vo4g8nt</code><br/><br/>\n",
              "            "
            ],
            "text/plain": [
              "<IPython.core.display.HTML object>"
            ]
          },
          "metadata": {
            "tags": []
          }
        },
        {
          "output_type": "display_data",
          "data": {
            "application/vnd.jupyter.widget-view+json": {
              "model_id": "467d427b9c304ada88a81825d98ec3d6",
              "version_minor": 0,
              "version_major": 2
            },
            "text/plain": [
              "HBox(children=(FloatProgress(value=0.0, max=2508.0), HTML(value='')))"
            ]
          },
          "metadata": {
            "tags": []
          }
        },
        {
          "output_type": "stream",
          "text": [
            "\n"
          ],
          "name": "stdout"
        },
        {
          "output_type": "display_data",
          "data": {
            "application/vnd.jupyter.widget-view+json": {
              "model_id": "2231bca7145049a5979b2494b65bc095",
              "version_minor": 0,
              "version_major": 2
            },
            "text/plain": [
              "HBox(children=(FloatProgress(value=0.0, max=2241.0), HTML(value='')))"
            ]
          },
          "metadata": {
            "tags": []
          }
        },
        {
          "output_type": "error",
          "ename": "NameError",
          "evalue": "ignored",
          "traceback": [
            "\u001b[0;31m---------------------------------------------------------------------------\u001b[0m",
            "\u001b[0;31mNameError\u001b[0m                                 Traceback (most recent call last)",
            "\u001b[0;32m<ipython-input-86-56889fddaf30>\u001b[0m in \u001b[0;36m<module>\u001b[0;34m()\u001b[0m\n\u001b[1;32m     40\u001b[0m         \u001b[0mmode\u001b[0m \u001b[0;34m=\u001b[0m \u001b[0mCFG\u001b[0m\u001b[0;34m.\u001b[0m\u001b[0mpatience_mode\u001b[0m\u001b[0;34m,\u001b[0m\u001b[0;34m\u001b[0m\u001b[0;34m\u001b[0m\u001b[0m\n\u001b[1;32m     41\u001b[0m         \u001b[0mpatience\u001b[0m \u001b[0;34m=\u001b[0m \u001b[0mCFG\u001b[0m\u001b[0;34m.\u001b[0m\u001b[0mpatience\u001b[0m\u001b[0;34m,\u001b[0m\u001b[0;34m\u001b[0m\u001b[0;34m\u001b[0m\u001b[0m\n\u001b[0;32m---> 42\u001b[0;31m         \u001b[0mdelta\u001b[0m \u001b[0;34m=\u001b[0m \u001b[0mCFG\u001b[0m\u001b[0;34m.\u001b[0m\u001b[0mdelta\u001b[0m\u001b[0;34m\u001b[0m\u001b[0;34m\u001b[0m\u001b[0m\n\u001b[0m\u001b[1;32m     43\u001b[0m     )\n",
            "\u001b[0;32m<ipython-input-85-da18dcbc1c49>\u001b[0m in \u001b[0;36mfit\u001b[0;34m(self, cfg, epochs, checkpoint_save_path, mode, patience, delta)\u001b[0m\n\u001b[1;32m    290\u001b[0m             \u001b[0mtrain_loss\u001b[0m \u001b[0;34m=\u001b[0m \u001b[0mself\u001b[0m\u001b[0;34m.\u001b[0m\u001b[0mtrain_one_epoch\u001b[0m\u001b[0;34m(\u001b[0m\u001b[0mself\u001b[0m\u001b[0;34m.\u001b[0m\u001b[0mtrain_loader\u001b[0m\u001b[0;34m)\u001b[0m\u001b[0;34m\u001b[0m\u001b[0;34m\u001b[0m\u001b[0m\n\u001b[1;32m    291\u001b[0m             \u001b[0;32mif\u001b[0m \u001b[0mvalid_dataset\u001b[0m\u001b[0;34m:\u001b[0m\u001b[0;34m\u001b[0m\u001b[0;34m\u001b[0m\u001b[0m\n\u001b[0;32m--> 292\u001b[0;31m                 \u001b[0mvalid_metrics\u001b[0m\u001b[0;34m,\u001b[0m \u001b[0mvalid_loss\u001b[0m \u001b[0;34m=\u001b[0m \u001b[0mself\u001b[0m\u001b[0;34m.\u001b[0m\u001b[0mvalidate_one_epoch\u001b[0m\u001b[0;34m(\u001b[0m\u001b[0mself\u001b[0m\u001b[0;34m.\u001b[0m\u001b[0mvalid_loader\u001b[0m\u001b[0;34m)\u001b[0m\u001b[0;34m\u001b[0m\u001b[0;34m\u001b[0m\u001b[0m\n\u001b[0m\u001b[1;32m    293\u001b[0m                 \u001b[0;31m# Early Stopping and save at the check points.\u001b[0m\u001b[0;34m\u001b[0m\u001b[0;34m\u001b[0m\u001b[0;34m\u001b[0m\u001b[0m\n\u001b[1;32m    294\u001b[0m                 \u001b[0;32mif\u001b[0m \u001b[0mmode\u001b[0m \u001b[0;34m==\u001b[0m \u001b[0;34m'max'\u001b[0m\u001b[0;34m:\u001b[0m\u001b[0;34m\u001b[0m\u001b[0;34m\u001b[0m\u001b[0m\n",
            "\u001b[0;32m<ipython-input-85-da18dcbc1c49>\u001b[0m in \u001b[0;36mvalidate_one_epoch\u001b[0;34m(self, data_loader)\u001b[0m\n\u001b[1;32m    204\u001b[0m             \u001b[0mtk0\u001b[0m\u001b[0;34m.\u001b[0m\u001b[0mset_postfix\u001b[0m\u001b[0;34m(\u001b[0m\u001b[0mvalid_loss\u001b[0m \u001b[0;34m=\u001b[0m \u001b[0mrunning_loss\u001b[0m\u001b[0;34m.\u001b[0m\u001b[0mavg\u001b[0m\u001b[0;34m,\u001b[0m \u001b[0mvalidate_step_metrics\u001b[0m \u001b[0;34m=\u001b[0m \u001b[0mrunning_metrics\u001b[0m\u001b[0;34m.\u001b[0m\u001b[0mavg\u001b[0m\u001b[0;34m,\u001b[0m \u001b[0mstage\u001b[0m\u001b[0;34m=\u001b[0m\u001b[0;34m\"validation\"\u001b[0m\u001b[0;34m)\u001b[0m\u001b[0;34m\u001b[0m\u001b[0;34m\u001b[0m\u001b[0m\n\u001b[1;32m    205\u001b[0m             wandb.log({\n\u001b[0;32m--> 206\u001b[0;31m                 \u001b[0;34m\"valid/step\"\u001b[0m \u001b[0;34m:\u001b[0m \u001b[0mbatch_idx\u001b[0m\u001b[0;34m,\u001b[0m\u001b[0;34m\u001b[0m\u001b[0;34m\u001b[0m\u001b[0m\n\u001b[0m\u001b[1;32m    207\u001b[0m                 \u001b[0;34m\"valid/metric_step\"\u001b[0m \u001b[0;34m:\u001b[0m \u001b[0mrunning_metrics\u001b[0m\u001b[0;34m.\u001b[0m\u001b[0mavg\u001b[0m\u001b[0;34m,\u001b[0m\u001b[0;34m\u001b[0m\u001b[0;34m\u001b[0m\u001b[0m\n\u001b[1;32m    208\u001b[0m                 \u001b[0;34m\"valid/loss\"\u001b[0m\u001b[0;34m:\u001b[0m \u001b[0mrunning_loss\u001b[0m\u001b[0;34m.\u001b[0m\u001b[0mavg\u001b[0m\u001b[0;34m,\u001b[0m\u001b[0;34m\u001b[0m\u001b[0;34m\u001b[0m\u001b[0m\n",
            "\u001b[0;31mNameError\u001b[0m: name 'batch_idx' is not defined"
          ]
        }
      ]
    }
  ]
}