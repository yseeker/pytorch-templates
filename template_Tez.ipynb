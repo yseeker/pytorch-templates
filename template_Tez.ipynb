{
  "nbformat": 4,
  "nbformat_minor": 0,
  "metadata": {
    "accelerator": "GPU",
    "colab": {
      "name": "template_Tez.ipynb",
      "provenance": [],
      "collapsed_sections": [],
      "machine_shape": "hm",
      "mount_file_id": "1XyIKDkaVtd4PqlQjbpB-FKMgZ3t0mVl3",
      "authorship_tag": "ABX9TyMjasJbpslkHyo00GtLg+x0",
      "include_colab_link": true
    },
    "kernelspec": {
      "display_name": "Python 3",
      "name": "python3"
    },
    "language_info": {
      "name": "python"
    },
    "widgets": {
      "application/vnd.jupyter.widget-state+json": {
        "f5e8e66f7ce44637b740b3b86520dde2": {
          "model_module": "@jupyter-widgets/controls",
          "model_name": "HBoxModel",
          "state": {
            "_view_name": "HBoxView",
            "_dom_classes": [],
            "_model_name": "HBoxModel",
            "_view_module": "@jupyter-widgets/controls",
            "_model_module_version": "1.5.0",
            "_view_count": null,
            "_view_module_version": "1.5.0",
            "box_style": "",
            "layout": "IPY_MODEL_d06f2a45091f4da8be1b656023a7f3ed",
            "_model_module": "@jupyter-widgets/controls",
            "children": [
              "IPY_MODEL_217ad5d41dfc4fcfacd0e6e44c3c2075",
              "IPY_MODEL_6cd9a8ef660e4a40915609288c3ab814"
            ]
          }
        },
        "d06f2a45091f4da8be1b656023a7f3ed": {
          "model_module": "@jupyter-widgets/base",
          "model_name": "LayoutModel",
          "state": {
            "_view_name": "LayoutView",
            "grid_template_rows": null,
            "right": null,
            "justify_content": null,
            "_view_module": "@jupyter-widgets/base",
            "overflow": null,
            "_model_module_version": "1.2.0",
            "_view_count": null,
            "flex_flow": null,
            "width": null,
            "min_width": null,
            "border": null,
            "align_items": null,
            "bottom": null,
            "_model_module": "@jupyter-widgets/base",
            "top": null,
            "grid_column": null,
            "overflow_y": null,
            "overflow_x": null,
            "grid_auto_flow": null,
            "grid_area": null,
            "grid_template_columns": null,
            "flex": null,
            "_model_name": "LayoutModel",
            "justify_items": null,
            "grid_row": null,
            "max_height": null,
            "align_content": null,
            "visibility": null,
            "align_self": null,
            "height": null,
            "min_height": null,
            "padding": null,
            "grid_auto_rows": null,
            "grid_gap": null,
            "max_width": null,
            "order": null,
            "_view_module_version": "1.2.0",
            "grid_template_areas": null,
            "object_position": null,
            "object_fit": null,
            "grid_auto_columns": null,
            "margin": null,
            "display": null,
            "left": null
          }
        },
        "217ad5d41dfc4fcfacd0e6e44c3c2075": {
          "model_module": "@jupyter-widgets/controls",
          "model_name": "FloatProgressModel",
          "state": {
            "_view_name": "ProgressView",
            "style": "IPY_MODEL_1a4c184ecf484956a32abc3cf4df1653",
            "_dom_classes": [],
            "description": "100%",
            "_model_name": "FloatProgressModel",
            "bar_style": "success",
            "max": 553507836,
            "_view_module": "@jupyter-widgets/controls",
            "_model_module_version": "1.5.0",
            "value": 553507836,
            "_view_count": null,
            "_view_module_version": "1.5.0",
            "orientation": "horizontal",
            "min": 0,
            "description_tooltip": null,
            "_model_module": "@jupyter-widgets/controls",
            "layout": "IPY_MODEL_b5bd271b8656483a8862e42c2b79fbc6"
          }
        },
        "6cd9a8ef660e4a40915609288c3ab814": {
          "model_module": "@jupyter-widgets/controls",
          "model_name": "HTMLModel",
          "state": {
            "_view_name": "HTMLView",
            "style": "IPY_MODEL_5ca7eb2e710d4ba68ec199fc6612ded0",
            "_dom_classes": [],
            "description": "",
            "_model_name": "HTMLModel",
            "placeholder": "​",
            "_view_module": "@jupyter-widgets/controls",
            "_model_module_version": "1.5.0",
            "value": " 528M/528M [00:09&lt;00:00, 58.1MB/s]",
            "_view_count": null,
            "_view_module_version": "1.5.0",
            "description_tooltip": null,
            "_model_module": "@jupyter-widgets/controls",
            "layout": "IPY_MODEL_e941522d0f264c569794b224f220468b"
          }
        },
        "1a4c184ecf484956a32abc3cf4df1653": {
          "model_module": "@jupyter-widgets/controls",
          "model_name": "ProgressStyleModel",
          "state": {
            "_view_name": "StyleView",
            "_model_name": "ProgressStyleModel",
            "description_width": "initial",
            "_view_module": "@jupyter-widgets/base",
            "_model_module_version": "1.5.0",
            "_view_count": null,
            "_view_module_version": "1.2.0",
            "bar_color": null,
            "_model_module": "@jupyter-widgets/controls"
          }
        },
        "b5bd271b8656483a8862e42c2b79fbc6": {
          "model_module": "@jupyter-widgets/base",
          "model_name": "LayoutModel",
          "state": {
            "_view_name": "LayoutView",
            "grid_template_rows": null,
            "right": null,
            "justify_content": null,
            "_view_module": "@jupyter-widgets/base",
            "overflow": null,
            "_model_module_version": "1.2.0",
            "_view_count": null,
            "flex_flow": null,
            "width": null,
            "min_width": null,
            "border": null,
            "align_items": null,
            "bottom": null,
            "_model_module": "@jupyter-widgets/base",
            "top": null,
            "grid_column": null,
            "overflow_y": null,
            "overflow_x": null,
            "grid_auto_flow": null,
            "grid_area": null,
            "grid_template_columns": null,
            "flex": null,
            "_model_name": "LayoutModel",
            "justify_items": null,
            "grid_row": null,
            "max_height": null,
            "align_content": null,
            "visibility": null,
            "align_self": null,
            "height": null,
            "min_height": null,
            "padding": null,
            "grid_auto_rows": null,
            "grid_gap": null,
            "max_width": null,
            "order": null,
            "_view_module_version": "1.2.0",
            "grid_template_areas": null,
            "object_position": null,
            "object_fit": null,
            "grid_auto_columns": null,
            "margin": null,
            "display": null,
            "left": null
          }
        },
        "5ca7eb2e710d4ba68ec199fc6612ded0": {
          "model_module": "@jupyter-widgets/controls",
          "model_name": "DescriptionStyleModel",
          "state": {
            "_view_name": "StyleView",
            "_model_name": "DescriptionStyleModel",
            "description_width": "",
            "_view_module": "@jupyter-widgets/base",
            "_model_module_version": "1.5.0",
            "_view_count": null,
            "_view_module_version": "1.2.0",
            "_model_module": "@jupyter-widgets/controls"
          }
        },
        "e941522d0f264c569794b224f220468b": {
          "model_module": "@jupyter-widgets/base",
          "model_name": "LayoutModel",
          "state": {
            "_view_name": "LayoutView",
            "grid_template_rows": null,
            "right": null,
            "justify_content": null,
            "_view_module": "@jupyter-widgets/base",
            "overflow": null,
            "_model_module_version": "1.2.0",
            "_view_count": null,
            "flex_flow": null,
            "width": null,
            "min_width": null,
            "border": null,
            "align_items": null,
            "bottom": null,
            "_model_module": "@jupyter-widgets/base",
            "top": null,
            "grid_column": null,
            "overflow_y": null,
            "overflow_x": null,
            "grid_auto_flow": null,
            "grid_area": null,
            "grid_template_columns": null,
            "flex": null,
            "_model_name": "LayoutModel",
            "justify_items": null,
            "grid_row": null,
            "max_height": null,
            "align_content": null,
            "visibility": null,
            "align_self": null,
            "height": null,
            "min_height": null,
            "padding": null,
            "grid_auto_rows": null,
            "grid_gap": null,
            "max_width": null,
            "order": null,
            "_view_module_version": "1.2.0",
            "grid_template_areas": null,
            "object_position": null,
            "object_fit": null,
            "grid_auto_columns": null,
            "margin": null,
            "display": null,
            "left": null
          }
        },
        "4b16507114f04e65a0626ed639ec84be": {
          "model_module": "@jupyter-widgets/controls",
          "model_name": "HBoxModel",
          "state": {
            "_view_name": "HBoxView",
            "_dom_classes": [],
            "_model_name": "HBoxModel",
            "_view_module": "@jupyter-widgets/controls",
            "_model_module_version": "1.5.0",
            "_view_count": null,
            "_view_module_version": "1.5.0",
            "box_style": "",
            "layout": "IPY_MODEL_57e3b6e9281a4c6eb217510ee625d1cc",
            "_model_module": "@jupyter-widgets/controls",
            "children": [
              "IPY_MODEL_2f4714d2b0d1480781b833f6af88dc2e",
              "IPY_MODEL_d9f5f6bcb2214ef2a308d5dd0ece1427"
            ]
          }
        },
        "57e3b6e9281a4c6eb217510ee625d1cc": {
          "model_module": "@jupyter-widgets/base",
          "model_name": "LayoutModel",
          "state": {
            "_view_name": "LayoutView",
            "grid_template_rows": null,
            "right": null,
            "justify_content": null,
            "_view_module": "@jupyter-widgets/base",
            "overflow": null,
            "_model_module_version": "1.2.0",
            "_view_count": null,
            "flex_flow": null,
            "width": null,
            "min_width": null,
            "border": null,
            "align_items": null,
            "bottom": null,
            "_model_module": "@jupyter-widgets/base",
            "top": null,
            "grid_column": null,
            "overflow_y": null,
            "overflow_x": null,
            "grid_auto_flow": null,
            "grid_area": null,
            "grid_template_columns": null,
            "flex": null,
            "_model_name": "LayoutModel",
            "justify_items": null,
            "grid_row": null,
            "max_height": null,
            "align_content": null,
            "visibility": null,
            "align_self": null,
            "height": null,
            "min_height": null,
            "padding": null,
            "grid_auto_rows": null,
            "grid_gap": null,
            "max_width": null,
            "order": null,
            "_view_module_version": "1.2.0",
            "grid_template_areas": null,
            "object_position": null,
            "object_fit": null,
            "grid_auto_columns": null,
            "margin": null,
            "display": null,
            "left": null
          }
        },
        "2f4714d2b0d1480781b833f6af88dc2e": {
          "model_module": "@jupyter-widgets/controls",
          "model_name": "FloatProgressModel",
          "state": {
            "_view_name": "ProgressView",
            "style": "IPY_MODEL_72d9ee7d57674e18b7ba9a262c186ece",
            "_dom_classes": [],
            "description": "  1%",
            "_model_name": "FloatProgressModel",
            "bar_style": "",
            "max": 3135,
            "_view_module": "@jupyter-widgets/controls",
            "_model_module_version": "1.5.0",
            "value": 16,
            "_view_count": null,
            "_view_module_version": "1.5.0",
            "orientation": "horizontal",
            "min": 0,
            "description_tooltip": null,
            "_model_module": "@jupyter-widgets/controls",
            "layout": "IPY_MODEL_e652d9350f5049078903c58ff624b132"
          }
        },
        "d9f5f6bcb2214ef2a308d5dd0ece1427": {
          "model_module": "@jupyter-widgets/controls",
          "model_name": "HTMLModel",
          "state": {
            "_view_name": "HTMLView",
            "style": "IPY_MODEL_2fdafee096d64ce2aa9412f0a68b6664",
            "_dom_classes": [],
            "description": "",
            "_model_name": "HTMLModel",
            "placeholder": "​",
            "_view_module": "@jupyter-widgets/controls",
            "_model_module_version": "1.5.0",
            "value": " 16/3135 [00:50&lt;1:05:25,  1.26s/it, loss=0.519, lr=0.0005, roc_auc=0.501, stage=train]",
            "_view_count": null,
            "_view_module_version": "1.5.0",
            "description_tooltip": null,
            "_model_module": "@jupyter-widgets/controls",
            "layout": "IPY_MODEL_7e69626c2dbe416c810f284c26962d14"
          }
        },
        "72d9ee7d57674e18b7ba9a262c186ece": {
          "model_module": "@jupyter-widgets/controls",
          "model_name": "ProgressStyleModel",
          "state": {
            "_view_name": "StyleView",
            "_model_name": "ProgressStyleModel",
            "description_width": "initial",
            "_view_module": "@jupyter-widgets/base",
            "_model_module_version": "1.5.0",
            "_view_count": null,
            "_view_module_version": "1.2.0",
            "bar_color": null,
            "_model_module": "@jupyter-widgets/controls"
          }
        },
        "e652d9350f5049078903c58ff624b132": {
          "model_module": "@jupyter-widgets/base",
          "model_name": "LayoutModel",
          "state": {
            "_view_name": "LayoutView",
            "grid_template_rows": null,
            "right": null,
            "justify_content": null,
            "_view_module": "@jupyter-widgets/base",
            "overflow": null,
            "_model_module_version": "1.2.0",
            "_view_count": null,
            "flex_flow": null,
            "width": null,
            "min_width": null,
            "border": null,
            "align_items": null,
            "bottom": null,
            "_model_module": "@jupyter-widgets/base",
            "top": null,
            "grid_column": null,
            "overflow_y": null,
            "overflow_x": null,
            "grid_auto_flow": null,
            "grid_area": null,
            "grid_template_columns": null,
            "flex": null,
            "_model_name": "LayoutModel",
            "justify_items": null,
            "grid_row": null,
            "max_height": null,
            "align_content": null,
            "visibility": null,
            "align_self": null,
            "height": null,
            "min_height": null,
            "padding": null,
            "grid_auto_rows": null,
            "grid_gap": null,
            "max_width": null,
            "order": null,
            "_view_module_version": "1.2.0",
            "grid_template_areas": null,
            "object_position": null,
            "object_fit": null,
            "grid_auto_columns": null,
            "margin": null,
            "display": null,
            "left": null
          }
        },
        "2fdafee096d64ce2aa9412f0a68b6664": {
          "model_module": "@jupyter-widgets/controls",
          "model_name": "DescriptionStyleModel",
          "state": {
            "_view_name": "StyleView",
            "_model_name": "DescriptionStyleModel",
            "description_width": "",
            "_view_module": "@jupyter-widgets/base",
            "_model_module_version": "1.5.0",
            "_view_count": null,
            "_view_module_version": "1.2.0",
            "_model_module": "@jupyter-widgets/controls"
          }
        },
        "7e69626c2dbe416c810f284c26962d14": {
          "model_module": "@jupyter-widgets/base",
          "model_name": "LayoutModel",
          "state": {
            "_view_name": "LayoutView",
            "grid_template_rows": null,
            "right": null,
            "justify_content": null,
            "_view_module": "@jupyter-widgets/base",
            "overflow": null,
            "_model_module_version": "1.2.0",
            "_view_count": null,
            "flex_flow": null,
            "width": null,
            "min_width": null,
            "border": null,
            "align_items": null,
            "bottom": null,
            "_model_module": "@jupyter-widgets/base",
            "top": null,
            "grid_column": null,
            "overflow_y": null,
            "overflow_x": null,
            "grid_auto_flow": null,
            "grid_area": null,
            "grid_template_columns": null,
            "flex": null,
            "_model_name": "LayoutModel",
            "justify_items": null,
            "grid_row": null,
            "max_height": null,
            "align_content": null,
            "visibility": null,
            "align_self": null,
            "height": null,
            "min_height": null,
            "padding": null,
            "grid_auto_rows": null,
            "grid_gap": null,
            "max_width": null,
            "order": null,
            "_view_module_version": "1.2.0",
            "grid_template_areas": null,
            "object_position": null,
            "object_fit": null,
            "grid_auto_columns": null,
            "margin": null,
            "display": null,
            "left": null
          }
        }
      }
    }
  },
  "cells": [
    {
      "cell_type": "markdown",
      "metadata": {
        "id": "view-in-github",
        "colab_type": "text"
      },
      "source": [
        "<a href=\"https://colab.research.google.com/github/yseeker/pytorch-templates/blob/main/template_Tez.ipynb\" target=\"_parent\"><img src=\"https://colab.research.google.com/assets/colab-badge.svg\" alt=\"Open In Colab\"/></a>"
      ]
    },
    {
      "cell_type": "code",
      "metadata": {
        "colab": {
          "base_uri": "https://localhost:8080/"
        },
        "id": "1xDJzJCP7G-O",
        "outputId": "03bed8ec-de16-47eb-974f-e4b686195e86"
      },
      "source": [
        "!nvidia-smi"
      ],
      "execution_count": null,
      "outputs": [
        {
          "output_type": "stream",
          "text": [
            "Thu Jul  1 03:00:36 2021       \n",
            "+-----------------------------------------------------------------------------+\n",
            "| NVIDIA-SMI 465.27       Driver Version: 460.32.03    CUDA Version: 11.2     |\n",
            "|-------------------------------+----------------------+----------------------+\n",
            "| GPU  Name        Persistence-M| Bus-Id        Disp.A | Volatile Uncorr. ECC |\n",
            "| Fan  Temp  Perf  Pwr:Usage/Cap|         Memory-Usage | GPU-Util  Compute M. |\n",
            "|                               |                      |               MIG M. |\n",
            "|===============================+======================+======================|\n",
            "|   0  Tesla P100-PCIE...  Off  | 00000000:00:04.0 Off |                    0 |\n",
            "| N/A   35C    P0    26W / 250W |      0MiB / 16280MiB |      0%      Default |\n",
            "|                               |                      |                  N/A |\n",
            "+-------------------------------+----------------------+----------------------+\n",
            "                                                                               \n",
            "+-----------------------------------------------------------------------------+\n",
            "| Processes:                                                                  |\n",
            "|  GPU   GI   CI        PID   Type   Process name                  GPU Memory |\n",
            "|        ID   ID                                                   Usage      |\n",
            "|=============================================================================|\n",
            "|  No running processes found                                                 |\n",
            "+-----------------------------------------------------------------------------+\n"
          ],
          "name": "stdout"
        }
      ]
    },
    {
      "cell_type": "code",
      "metadata": {
        "colab": {
          "base_uri": "https://localhost:8080/"
        },
        "id": "5iU9JpX2_4NK",
        "outputId": "ae05cff2-5d28-45f2-d9a5-b6c2449631f7"
      },
      "source": [
        "!pip install gwpy --quiet"
      ],
      "execution_count": null,
      "outputs": [
        {
          "output_type": "stream",
          "text": [
            "\u001b[K     |████████████████████████████████| 1.4MB 4.3MB/s \n",
            "\u001b[K     |████████████████████████████████| 10.3MB 62.5MB/s \n",
            "\u001b[K     |████████████████████████████████| 61kB 9.7MB/s \n",
            "\u001b[K     |████████████████████████████████| 61kB 10.0MB/s \n",
            "\u001b[K     |████████████████████████████████| 3.2MB 50.0MB/s \n",
            "\u001b[?25h  Building wheel for ligo-segments (setup.py) ... \u001b[?25l\u001b[?25hdone\n",
            "\u001b[31mERROR: albumentations 0.1.12 has requirement imgaug<0.2.7,>=0.2.5, but you'll have imgaug 0.2.9 which is incompatible.\u001b[0m\n"
          ],
          "name": "stdout"
        }
      ]
    },
    {
      "cell_type": "code",
      "metadata": {
        "id": "5fdlUr2O_5Ei"
      },
      "source": [
        "%%capture\n",
        "!pip install wandb\n",
        "\n",
        "class CFG:\n",
        "    project_name = 'project name'\n",
        "    pretrained_model_name = 'efficientnetv2_rw_s'\n",
        "    lr = 5e-4\n",
        "    batch_size= 16\n",
        "    wandb_note = f'bs{batch_size}_adamW_default_lr{lr}'\n",
        "    pretrained = True\n",
        "    prettained_path = '../input/timm_weight/efficientnet_v2s_ra2_288-a6477665.pth'\n",
        "    input_channels = 1\n",
        "    out_dim = 1\n",
        "    colab_or_kaggle = 'colab'\n",
        "    wandb_exp_name = f'{pretrained_model_name}_{colab_or_kaggle}_{wandb_note}'\n",
        "    monitor = 'valid_roc_auc'\n",
        "    batch_size= 16\n",
        "    epochs = 3\n",
        "    num_of_fold = 5\n",
        "    seed = 42\n",
        "    num_workers = 8\n",
        "    fp16 = True\n",
        "    checkpoint_path = ''\n",
        "    patience_mode = 'max'\n",
        "    patience = 10\n",
        "    delta = 0.001\n",
        "    mixup_alpha = 1.0\n",
        "    benchmark = False"
      ],
      "execution_count": null,
      "outputs": []
    },
    {
      "cell_type": "code",
      "metadata": {
        "id": "v0UINpRC6Imb"
      },
      "source": [
        "# load data\n",
        "%%capture\n",
        "# !unzip \"/content/drive/MyDrive/kaggle/input/seti-breakthrough-listen/seti-breakthrough-listen.zip\" -d \"/content\""
      ],
      "execution_count": null,
      "outputs": []
    },
    {
      "cell_type": "code",
      "metadata": {
        "id": "qAD1kL_xEzUj"
      },
      "source": [
        "import os\n",
        "import json\n",
        "f = open(\"/content/drive/My Drive/kaggle/kaggle.json\", 'r')\n",
        "json_data = json.load(f) #JSON形式で読み込む\n",
        "os.environ['KAGGLE_USERNAME'] = json_data['username']\n",
        "os.environ['KAGGLE_KEY'] = json_data['key']\n",
        "os.chdir(\"/content/drive/My Drive/kaggle/working\")"
      ],
      "execution_count": null,
      "outputs": []
    },
    {
      "cell_type": "code",
      "metadata": {
        "id": "JTPtXCdJE3wK"
      },
      "source": [
        "import os\n",
        "import sys\n",
        "import random\n",
        "from tqdm import tqdm\n",
        "\n",
        "import pandas as pd\n",
        "import numpy as np\n",
        "from sklearn import metrics\n",
        "from sklearn.model_selection import StratifiedKFold\n",
        "import torch\n",
        "import torch.nn as nn\n",
        "import torchvision\n",
        "\n",
        "import cv2\n",
        "from PIL import Image\n",
        "import albumentations as A"
      ],
      "execution_count": null,
      "outputs": []
    },
    {
      "cell_type": "code",
      "metadata": {
        "id": "0w1ohCx7FD2R"
      },
      "source": [
        "#!pip install timm\n",
        "tez_path = '../input/tez-lib'\n",
        "#efnet_path = '../input/efficientnet-pytorch/EfficientNet-PyTorch/EfficientNet-PyTorch-master'\n",
        "timm_path = '../input/pytorch-image-models-master'\n",
        "sys.path.append(tez_path)\n",
        "#sys.path.append(efnet_path)\n",
        "sys.path.append(timm_path)\n",
        "\n",
        "#from efficientnet_pytorch import model as enet\n",
        "import tez\n",
        "from tez.datasets import ImageDataset\n",
        "from tez.callbacks import EarlyStopping\n",
        "import timm"
      ],
      "execution_count": null,
      "outputs": []
    },
    {
      "cell_type": "code",
      "metadata": {
        "id": "yqHLcYJJ_9KH"
      },
      "source": [
        "train_aug = A.Compose(\n",
        "    [\n",
        "        A.HorizontalFlip(p=0.5),\n",
        "        A.VerticalFlip(p=0.5),\n",
        "        A.ShiftScaleRotate(p=0.5,\n",
        "                           shift_limit = 0.2, \n",
        "                           scale_limit=0.2,\n",
        "                           rotate_limit=30, \n",
        "                           border_mode = cv2.BORDER_REPLICATE),\n",
        "        A.OneOf([\n",
        "            A.MedianBlur(p=0.3),\n",
        "            A.MotionBlur(p=0.3)\n",
        "        ]\n",
        "        )\n",
        "    ]\n",
        ")\n",
        "df = pd.read_csv('../input/***/train_labels.csv')\n",
        "df['img_path'] = df['id'].apply(\n",
        "    lambda x: f'../input/***/train/{x[0]}/{x}.npy'\n",
        ")\n",
        "\n",
        "\n",
        "X = df.img_path\n",
        "Y = df.target\n",
        "\n",
        "skf = StratifiedKFold(n_splits = CFG.num_of_fold)"
      ],
      "execution_count": null,
      "outputs": []
    },
    {
      "cell_type": "code",
      "metadata": {
        "id": "WSCUPDaxva3l"
      },
      "source": [
        "def set_seed(seed = 0):\n",
        "    np.random.seed(seed)\n",
        "    random_state = np.random.RandomState(seed)\n",
        "    random.seed(seed)\n",
        "    torch.manual_seed(seed)\n",
        "    torch.cuda.manual_seed(seed)\n",
        "    torch.backends.cudnn.deterministic = True\n",
        "    torch.backends.cudnn.benchmark = False\n",
        "    os.environ['PYTHONHASHSEED'] = str(seed)\n",
        "    return random_state\n",
        "\n",
        "def mixup_data(inputs, targets, alpha=1.0):\n",
        "    '''Returns mixed inputs, pairs of targets, and lambda'''\n",
        "    if alpha > 0:\n",
        "        lam = np.random.beta(alpha, alpha)\n",
        "    else:\n",
        "        lam = 1\n",
        "    batch_size = inputs.size()[0]\n",
        "    index = torch.randperm(batch_size)\n",
        "    mixed_inputs = lam * inputs + (1 - lam) * inputs[index, :]\n",
        "    targets_a, targets_b = targets, targets[index]\n",
        "    \n",
        "    return mixed_inputs, targets_a, targets_b, lam\n",
        "\n",
        "def mixup_criterion(criterion, outputs, targets_a, targets_b, lam):\n",
        "    return lam * criterion(outputs, targets_a) + (1 - lam) * criterion(outputs, targets_b)"
      ],
      "execution_count": null,
      "outputs": []
    },
    {
      "cell_type": "code",
      "metadata": {
        "id": "v6ULGIlopdyk"
      },
      "source": [
        "class ClassificationDataset():\n",
        "    def __init__(self, image_paths, targets, transform = None): \n",
        "        self.image_paths = image_paths\n",
        "        self.targets = targets\n",
        "        self.transform = None\n",
        "\n",
        "    def __len__(self):\n",
        "        return len(self.image_paths)\n",
        "    \n",
        "    def __getitem__(self, item): \n",
        "        targets = self.targets[item]\n",
        "        image1 = np.load(self.image_paths[item])\n",
        "        image = np.vstack(image).transpose((1, 0))\n",
        "        image = image.astype(np.float32)[np.newaxis, ]\n",
        "\n",
        "        return {\n",
        "            \"image\": torch.tensor(image, dtype=torch.float),\n",
        "            \"targets\": torch.tensor(targets, dtype=torch.float),\n",
        "        }\n",
        "\n",
        "class CustomNN(tez.Model):\n",
        "    def __init__(self):\n",
        "        super().__init__()\n",
        "        self.model = timm.create_model(CFG.pretrained_model_name, \n",
        "                                       pretrained = CFG.pretrained, \n",
        "                                       in_chans = CFG.input_channels)\n",
        "        if not CFG.pretrained: self.model.load_state_dict(torch.load(CFG.pretrained_path))\n",
        "        self.model.classifier = nn.Linear(self.model.classifier.in_features, CFG.out_dim)\n",
        "            \n",
        "        self.criterion =  nn.BCEWithLogitsLoss()\n",
        "\n",
        "\n",
        "    def forward(self, image, targets = None):\n",
        "        outputs = self.model(image)\n",
        "        \n",
        "        if targets is not None:\n",
        "            loss = self.criterion(outputs, targets.view(-1, 1))\n",
        "            metrics = self.monitor_metrics(outputs, targets)\n",
        "            return outputs, loss, metrics\n",
        "        return outputs, None, None\n",
        "\n",
        "    def epoch_metrics(self, outputs, targets):\n",
        "        roc_auc = metrics.roc_auc_score(targets, outputs)\n",
        "        return roc_auc\n",
        "\n",
        "    def monitor_metrics(self, outputs, targets):\n",
        "        outputs = outputs.cpu().detach().numpy()\n",
        "        targets = targets.cpu().detach().numpy()\n",
        "        if len(np.unique(targets)) > 1: \n",
        "            roc_auc = metrics.roc_auc_score(targets, outputs)\n",
        "        else: roc_auc = 1.0\n",
        "        return {\"roc_auc\": roc_auc}\n",
        "\n",
        "    def configure_optimizer(self):\n",
        "        opt = torch.optim.AdamW(self.parameters(), lr=CFG.lr, weight_decay=0.01)\n",
        "        #opt = torch.optim.SGD(self.parameters(), lr=0.001, momentum=0.9)\n",
        "        return opt\n",
        "    \n",
        "    def configure_scheduler(self):\n",
        "        sch = torch.optim.lr_scheduler.CosineAnnealingWarmRestarts(\n",
        "            self.optimizer, T_0=10, T_mult=1, eta_min=1e-6, last_epoch=-1\n",
        "        )\n",
        "        return sch"
      ],
      "execution_count": null,
      "outputs": []
    },
    {
      "cell_type": "code",
      "metadata": {
        "colab": {
          "base_uri": "https://localhost:8080/",
          "height": 251,
          "referenced_widgets": [
            "f5e8e66f7ce44637b740b3b86520dde2",
            "d06f2a45091f4da8be1b656023a7f3ed",
            "217ad5d41dfc4fcfacd0e6e44c3c2075",
            "6cd9a8ef660e4a40915609288c3ab814",
            "1a4c184ecf484956a32abc3cf4df1653",
            "b5bd271b8656483a8862e42c2b79fbc6",
            "5ca7eb2e710d4ba68ec199fc6612ded0",
            "e941522d0f264c569794b224f220468b",
            "4b16507114f04e65a0626ed639ec84be",
            "57e3b6e9281a4c6eb217510ee625d1cc",
            "2f4714d2b0d1480781b833f6af88dc2e",
            "d9f5f6bcb2214ef2a308d5dd0ece1427",
            "72d9ee7d57674e18b7ba9a262c186ece",
            "e652d9350f5049078903c58ff624b132",
            "2fdafee096d64ce2aa9412f0a68b6664",
            "7e69626c2dbe416c810f284c26962d14"
          ]
        },
        "id": "goz6Y-xA_0AK",
        "outputId": "2b54b706-a416-4c72-f5ef-0991f657c293"
      },
      "source": [
        "for fold_cnt, (train_index, test_index) in enumerate(skf.split(X, Y)):\n",
        "    train_images, valid_images = X[train_index], X[test_index]\n",
        "    train_targets, valid_targets = Y[train_index], Y[test_index]\n",
        "\n",
        "    train_dataset = ClassificationDataset(\n",
        "        image_paths=train_images, \n",
        "        targets=train_targets, \n",
        "        transform = None\n",
        "    )\n",
        "    valid_dataset = ClassificationDataset(\n",
        "        image_paths=valid_images, \n",
        "        targets=valid_targets, \n",
        "        transform = None\n",
        "    )\n",
        "    model = CustomNN()\n",
        "\n",
        "    es = EarlyStopping(\n",
        "        monitor=CFG.monitor, \n",
        "        model_path=CFG.checkpoint_path+f'{CFG.pretrained_model_name}_{fold_cnt}fold_{CFG.wandb_note}.cpt', \n",
        "        patience= CFG.patience, \n",
        "        mode=CFG.patience_mode,\n",
        "        delta = CFG.delta\n",
        "    )\n",
        "    model.fit(\n",
        "        cfg = CFG,\n",
        "        train_dataset = train_dataset,\n",
        "        valid_dataset = valid_dataset,\n",
        "        valid_targets = valid_targets,\n",
        "        train_bs=CFG.batch_size,\n",
        "        valid_bs=CFG.batch_size,\n",
        "        epochs=CFG.epochs,\n",
        "        callbacks=[es],\n",
        "        n_jobs = CFG.num_workers,\n",
        "        fp16=CFG.fp16,\n",
        "        benchmark = CFG.benchmark\n",
        "    )\n",
        "    models.append(model)"
      ],
      "execution_count": null,
      "outputs": [
        {
          "output_type": "stream",
          "text": [
            "Downloading: \"https://download.pytorch.org/models/vgg16_bn-6c64b313.pth\" to /root/.cache/torch/hub/checkpoints/vgg16_bn-6c64b313.pth\n"
          ],
          "name": "stderr"
        },
        {
          "output_type": "display_data",
          "data": {
            "application/vnd.jupyter.widget-view+json": {
              "model_id": "f5e8e66f7ce44637b740b3b86520dde2",
              "version_minor": 0,
              "version_major": 2
            },
            "text/plain": [
              "HBox(children=(FloatProgress(value=0.0, max=553507836.0), HTML(value='')))"
            ]
          },
          "metadata": {
            "tags": []
          }
        },
        {
          "output_type": "stream",
          "text": [
            "\n"
          ],
          "name": "stdout"
        },
        {
          "output_type": "display_data",
          "data": {
            "application/javascript": [
              "\n",
              "        window._wandbApiKey = new Promise((resolve, reject) => {\n",
              "            function loadScript(url) {\n",
              "            return new Promise(function(resolve, reject) {\n",
              "                let newScript = document.createElement(\"script\");\n",
              "                newScript.onerror = reject;\n",
              "                newScript.onload = resolve;\n",
              "                document.body.appendChild(newScript);\n",
              "                newScript.src = url;\n",
              "            });\n",
              "            }\n",
              "            loadScript(\"https://cdn.jsdelivr.net/npm/postmate/build/postmate.min.js\").then(() => {\n",
              "            const iframe = document.createElement('iframe')\n",
              "            iframe.style.cssText = \"width:0;height:0;border:none\"\n",
              "            document.body.appendChild(iframe)\n",
              "            const handshake = new Postmate({\n",
              "                container: iframe,\n",
              "                url: 'https://wandb.ai/authorize'\n",
              "            });\n",
              "            const timeout = setTimeout(() => reject(\"Couldn't auto authenticate\"), 5000)\n",
              "            handshake.then(function(child) {\n",
              "                child.on('authorize', data => {\n",
              "                    clearTimeout(timeout)\n",
              "                    resolve(data)\n",
              "                });\n",
              "            });\n",
              "            })\n",
              "        });\n",
              "    "
            ],
            "text/plain": [
              "<IPython.core.display.Javascript object>"
            ]
          },
          "metadata": {
            "tags": []
          }
        },
        {
          "output_type": "stream",
          "text": [
            "\u001b[34m\u001b[1mwandb\u001b[0m: Appending key for api.wandb.ai to your netrc file: /root/.netrc\n"
          ],
          "name": "stderr"
        },
        {
          "output_type": "display_data",
          "data": {
            "text/html": [
              "\n",
              "                Tracking run with wandb version 0.10.33<br/>\n",
              "                Syncing run <strong style=\"color:#cdcd00\">vgg16_bn_colab_bs16_adamW_default_lr0.0005</strong> to <a href=\"https://wandb.ai\" target=\"_blank\">Weights & Biases</a> <a href=\"https://docs.wandb.com/integrations/jupyter.html\" target=\"_blank\">(Documentation)</a>.<br/>\n",
              "                Project page: <a href=\"https://wandb.ai/yseeker/SETI_aug_check2\" target=\"_blank\">https://wandb.ai/yseeker/SETI_aug_check2</a><br/>\n",
              "                Run page: <a href=\"https://wandb.ai/yseeker/SETI_aug_check2/runs/3bhf5vzy\" target=\"_blank\">https://wandb.ai/yseeker/SETI_aug_check2/runs/3bhf5vzy</a><br/>\n",
              "                Run data is saved locally in <code>/content/drive/My Drive/kaggle/working/wandb/run-20210701_030644-3bhf5vzy</code><br/><br/>\n",
              "            "
            ],
            "text/plain": [
              "<IPython.core.display.HTML object>"
            ]
          },
          "metadata": {
            "tags": []
          }
        },
        {
          "output_type": "display_data",
          "data": {
            "application/vnd.jupyter.widget-view+json": {
              "model_id": "4b16507114f04e65a0626ed639ec84be",
              "version_minor": 0,
              "version_major": 2
            },
            "text/plain": [
              "HBox(children=(FloatProgress(value=0.0, max=3135.0), HTML(value='')))"
            ]
          },
          "metadata": {
            "tags": []
          }
        }
      ]
    },
    {
      "cell_type": "code",
      "metadata": {
        "id": "hLJJW08RHlRi"
      },
      "source": [
        ""
      ],
      "execution_count": null,
      "outputs": []
    }
  ]
}